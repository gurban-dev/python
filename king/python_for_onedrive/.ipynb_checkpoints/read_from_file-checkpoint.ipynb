{
 "cells": [
  {
   "cell_type": "code",
   "execution_count": 1,
   "id": "8e77678d",
   "metadata": {},
   "outputs": [],
   "source": [
    "import pandas as pd"
   ]
  },
  {
   "cell_type": "raw",
   "id": "eacd25e6",
   "metadata": {},
   "source": [
    "To find the current working directory:"
   ]
  },
  {
   "cell_type": "code",
   "execution_count": 13,
   "id": "b1eb6394",
   "metadata": {},
   "outputs": [
    {
     "data": {
      "text/plain": [
       "'/home/deniz/python/King/python-for-onedrive'"
      ]
     },
     "execution_count": 13,
     "metadata": {},
     "output_type": "execute_result"
    }
   ],
   "source": [
    "import os\n",
    "\n",
    "# In a Python file:\n",
    "# print(os.getcwd())\n",
    "\n",
    "os.getcwd()"
   ]
  },
  {
   "cell_type": "code",
   "execution_count": 15,
   "id": "348e86ad",
   "metadata": {},
   "outputs": [],
   "source": [
    "file_path = './Downloads/Dummy Email Automation.xlsx'"
   ]
  },
  {
   "cell_type": "code",
   "execution_count": 20,
   "id": "d942da0c",
   "metadata": {},
   "outputs": [],
   "source": [
    "df = pd.read_excel(\n",
    "  file_path, sheet_name='Sheet1', names=['preferred name',\n",
    "  'to', 'cc', 'from', 'subject', 'attachment', 'salutation',\n",
    "  'body', 'closing signature'])"
   ]
  },
  {
   "cell_type": "code",
   "execution_count": 21,
   "id": "bf587d50",
   "metadata": {},
   "outputs": [
    {
     "data": {
      "text/html": [
       "<div>\n",
       "<style scoped>\n",
       "    .dataframe tbody tr th:only-of-type {\n",
       "        vertical-align: middle;\n",
       "    }\n",
       "\n",
       "    .dataframe tbody tr th {\n",
       "        vertical-align: top;\n",
       "    }\n",
       "\n",
       "    .dataframe thead th {\n",
       "        text-align: right;\n",
       "    }\n",
       "</style>\n",
       "<table border=\"1\" class=\"dataframe\">\n",
       "  <thead>\n",
       "    <tr style=\"text-align: right;\">\n",
       "      <th></th>\n",
       "      <th>preferred name</th>\n",
       "      <th>to</th>\n",
       "      <th>cc</th>\n",
       "      <th>from</th>\n",
       "      <th>subject</th>\n",
       "      <th>attachment</th>\n",
       "      <th>salutation</th>\n",
       "      <th>body</th>\n",
       "      <th>closing signature</th>\n",
       "    </tr>\n",
       "  </thead>\n",
       "  <tbody>\n",
       "    <tr>\n",
       "      <th>0</th>\n",
       "      <td>John</td>\n",
       "      <td>johnlocke@gmail.com</td>\n",
       "      <td>johnlocke@gmail.com</td>\n",
       "      <td>johnlocke@gmail.com</td>\n",
       "      <td>Test 1</td>\n",
       "      <td>socotra-island.jpg</td>\n",
       "      <td>NaN</td>\n",
       "      <td>Hello. This is test number 1.</td>\n",
       "      <td>Dev Team</td>\n",
       "    </tr>\n",
       "    <tr>\n",
       "      <th>1</th>\n",
       "      <td>Edmund</td>\n",
       "      <td>edmundburke@gmail.com</td>\n",
       "      <td>edmundburke@gmail.com</td>\n",
       "      <td>edmundburke@gmail.com</td>\n",
       "      <td>Test 2</td>\n",
       "      <td>socotra-island.jpg</td>\n",
       "      <td>NaN</td>\n",
       "      <td>Hello. This is test number 2.</td>\n",
       "      <td>Dev Team</td>\n",
       "    </tr>\n",
       "  </tbody>\n",
       "</table>\n",
       "</div>"
      ],
      "text/plain": [
       "  preferred name                     to                     cc  \\\n",
       "0           John    johnlocke@gmail.com    johnlocke@gmail.com   \n",
       "1         Edmund  edmundburke@gmail.com  edmundburke@gmail.com   \n",
       "\n",
       "                    from subject          attachment  salutation  \\\n",
       "0    johnlocke@gmail.com  Test 1  socotra-island.jpg         NaN   \n",
       "1  edmundburke@gmail.com  Test 2  socotra-island.jpg         NaN   \n",
       "\n",
       "                            body closing signature  \n",
       "0  Hello. This is test number 1.          Dev Team  \n",
       "1  Hello. This is test number 2.          Dev Team  "
      ]
     },
     "execution_count": 21,
     "metadata": {},
     "output_type": "execute_result"
    }
   ],
   "source": [
    "df"
   ]
  },
  {
   "cell_type": "code",
   "execution_count": 25,
   "id": "fbfdc7f6",
   "metadata": {},
   "outputs": [
    {
     "name": "stdout",
     "output_type": "stream",
     "text": [
      "Index: 0, preferred name: John\n",
      "Index: 1, preferred name: Edmund\n"
     ]
    }
   ],
   "source": [
    "for index, row in df.iterrows():\n",
    "    print(f\"Index: {index}, preferred name: {row['preferred name']}\")"
   ]
  },
  {
   "cell_type": "code",
   "execution_count": 26,
   "id": "c2b56a82",
   "metadata": {},
   "outputs": [
    {
     "ename": "NameError",
     "evalue": "name 'attachments' is not defined",
     "output_type": "error",
     "traceback": [
      "\u001b[0;31m---------------------------------------------------------------------------\u001b[0m",
      "\u001b[0;31mNameError\u001b[0m                                 Traceback (most recent call last)",
      "Cell \u001b[0;32mIn[26], line 26\u001b[0m\n\u001b[1;32m      1\u001b[0m \u001b[38;5;28;01mfor\u001b[39;00m index, row \u001b[38;5;129;01min\u001b[39;00m df\u001b[38;5;241m.\u001b[39miterrows():\n\u001b[1;32m      2\u001b[0m     message \u001b[38;5;241m=\u001b[39m {\n\u001b[1;32m      3\u001b[0m         \u001b[38;5;124m'\u001b[39m\u001b[38;5;124msubject\u001b[39m\u001b[38;5;124m'\u001b[39m: row[\u001b[38;5;124m'\u001b[39m\u001b[38;5;124msubject\u001b[39m\u001b[38;5;124m'\u001b[39m],\n\u001b[1;32m      4\u001b[0m         \u001b[38;5;124m'\u001b[39m\u001b[38;5;124mbody\u001b[39m\u001b[38;5;124m'\u001b[39m: {\n\u001b[1;32m      5\u001b[0m           \u001b[38;5;124m'\u001b[39m\u001b[38;5;124mcontentType\u001b[39m\u001b[38;5;124m'\u001b[39m: \u001b[38;5;124m'\u001b[39m\u001b[38;5;124mHTML\u001b[39m\u001b[38;5;124m'\u001b[39m,\n\u001b[1;32m      6\u001b[0m           \u001b[38;5;124m'\u001b[39m\u001b[38;5;124mcontent\u001b[39m\u001b[38;5;124m'\u001b[39m: row[\u001b[38;5;124m'\u001b[39m\u001b[38;5;124mbody\u001b[39m\u001b[38;5;124m'\u001b[39m]\n\u001b[1;32m      7\u001b[0m         },\n\u001b[1;32m      8\u001b[0m         \u001b[38;5;124m'\u001b[39m\u001b[38;5;124mtoRecipients\u001b[39m\u001b[38;5;124m'\u001b[39m: [\n\u001b[1;32m      9\u001b[0m           {\n\u001b[1;32m     10\u001b[0m             \u001b[38;5;124m'\u001b[39m\u001b[38;5;124memailAddress\u001b[39m\u001b[38;5;124m'\u001b[39m: {\n\u001b[1;32m     11\u001b[0m               \u001b[38;5;124m'\u001b[39m\u001b[38;5;124maddress\u001b[39m\u001b[38;5;124m'\u001b[39m: row[\u001b[38;5;124m'\u001b[39m\u001b[38;5;124mto\u001b[39m\u001b[38;5;124m'\u001b[39m]\n\u001b[1;32m     12\u001b[0m             }\n\u001b[1;32m     13\u001b[0m           }\n\u001b[1;32m     14\u001b[0m         ],\n\u001b[1;32m     15\u001b[0m         \u001b[38;5;66;03m# Include the secondary recipients in the\u001b[39;00m\n\u001b[1;32m     16\u001b[0m         \u001b[38;5;66;03m# Outlook email message who receive a copy\u001b[39;00m\n\u001b[1;32m     17\u001b[0m         \u001b[38;5;66;03m# of the email for informational purposes.\u001b[39;00m\n\u001b[1;32m     18\u001b[0m         \u001b[38;5;124m'\u001b[39m\u001b[38;5;124mccRecipients\u001b[39m\u001b[38;5;124m'\u001b[39m: [\n\u001b[1;32m     19\u001b[0m           {\n\u001b[1;32m     20\u001b[0m             \u001b[38;5;124m'\u001b[39m\u001b[38;5;124memailAddress\u001b[39m\u001b[38;5;124m'\u001b[39m: {\n\u001b[1;32m     21\u001b[0m               \u001b[38;5;124m'\u001b[39m\u001b[38;5;124maddress\u001b[39m\u001b[38;5;124m'\u001b[39m: row[\u001b[38;5;124m'\u001b[39m\u001b[38;5;124mcc\u001b[39m\u001b[38;5;124m'\u001b[39m]\n\u001b[1;32m     22\u001b[0m             }\n\u001b[1;32m     23\u001b[0m           }\n\u001b[1;32m     24\u001b[0m         ],\n\u001b[1;32m     25\u001b[0m         \u001b[38;5;124m'\u001b[39m\u001b[38;5;124mimportance\u001b[39m\u001b[38;5;124m'\u001b[39m: \u001b[38;5;124m'\u001b[39m\u001b[38;5;124mhigh\u001b[39m\u001b[38;5;124m'\u001b[39m,\n\u001b[0;32m---> 26\u001b[0m         \u001b[38;5;124m'\u001b[39m\u001b[38;5;124mattachments\u001b[39m\u001b[38;5;124m'\u001b[39m: \u001b[43mattachments\u001b[49m\n\u001b[1;32m     27\u001b[0m       }\n",
      "\u001b[0;31mNameError\u001b[0m: name 'attachments' is not defined"
     ]
    }
   ],
   "source": [
    "for index, row in df.iterrows():\n",
    "    message = {\n",
    "        'subject': row['subject'],\n",
    "        'body': {\n",
    "          'contentType': 'HTML',\n",
    "          'content': row['salutation'] + row['preferred name'] + row['body']\n",
    "        },\n",
    "        'toRecipients': [\n",
    "          {\n",
    "            'emailAddress': {\n",
    "              'address': row['to']\n",
    "            }\n",
    "          }\n",
    "        ],\n",
    "        # Include the secondary recipients in the\n",
    "        # Outlook email message who receive a copy\n",
    "        # of the email for informational purposes.\n",
    "        'ccRecipients': [\n",
    "          {\n",
    "            'emailAddress': {\n",
    "            'address': row['cc']\n",
    "          }\n",
    "        }\n",
    "      ],\n",
    "      'importance': 'high',\n",
    "      'attachments': attachments\n",
    "    }"
   ]
  },
  {
   "cell_type": "code",
   "execution_count": null,
   "id": "b815c8fc",
   "metadata": {},
   "outputs": [],
   "source": []
  }
 ],
 "metadata": {
  "kernelspec": {
   "display_name": "Python 3 (ipykernel)",
   "language": "python",
   "name": "python3"
  },
  "language_info": {
   "codemirror_mode": {
    "name": "ipython",
    "version": 3
   },
   "file_extension": ".py",
   "mimetype": "text/x-python",
   "name": "python",
   "nbconvert_exporter": "python",
   "pygments_lexer": "ipython3",
   "version": "3.12.3"
  }
 },
 "nbformat": 4,
 "nbformat_minor": 5
}
