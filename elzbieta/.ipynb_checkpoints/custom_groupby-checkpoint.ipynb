{
 "cells": [
  {
   "cell_type": "markdown",
   "id": "aaed531a",
   "metadata": {},
   "source": [
    "Importing the defaultdict class from Python's built-in collections module.\n",
    "\n",
    "defaultdict automatically provides default values for missing keys, so you don't get <br>\n",
    "a KeyError when accessing a key that doesn't have a corresponding value yet."
   ]
  },
  {
   "cell_type": "code",
   "execution_count": 1,
   "id": "028b1dfa",
   "metadata": {},
   "outputs": [],
   "source": [
    "from collections import defaultdict"
   ]
  },
  {
   "cell_type": "code",
   "execution_count": 20,
   "id": "45a696c9",
   "metadata": {},
   "outputs": [],
   "source": [
    "def custom_groupby(data, key):\n",
    "    '''\n",
    "    Passing list as an argument means that if you access a key\n",
    "    that doesn't exist yet, it will automatically create a new\n",
    "    empty list for that key.\n",
    "\n",
    "    This is necessary because the subsequent line looks up the\n",
    "    list at grouped[row[key]] and appends \"row\" to that list:\n",
    "    grouped[row[key]].append(row)\n",
    "    \n",
    "    If grouped were a normal dictionary and the key row[key]\n",
    "    didn't exist yet, grouped[row[key]] would raise a KeyError\n",
    "    because there's no list yet to append to.\n",
    "    '''\n",
    "    grouped = defaultdict(list)\n",
    "\n",
    "    for row in data:\n",
    "        print(f'row[{key}]: {row[key]}')\n",
    "        print(f'type(row[{key}]): {type(row[key])}\\n')\n",
    "        print('row:', row)\n",
    "        \n",
    "        # grouped[row[key]] will always return a list, even if that\n",
    "        # key was never added before.\n",
    "        \n",
    "        # grouped['alice'].append({'user': 'alice', 'amount': 50})\n",
    "        grouped[row[key]].append(row)\n",
    "\n",
    "    return dict(grouped)"
   ]
  },
  {
   "cell_type": "code",
   "execution_count": 21,
   "id": "2b69da52",
   "metadata": {},
   "outputs": [],
   "source": [
    "# A list of dictionary items.\n",
    "data = [\n",
    "    {\"user\": \"alice\", \"amount\": 50},\n",
    "    {\"user\": \"bob\", \"amount\": 30},\n",
    "    {\"user\": \"alice\", \"amount\": 20}\n",
    "]"
   ]
  },
  {
   "cell_type": "code",
   "execution_count": 22,
   "id": "71e1f931",
   "metadata": {},
   "outputs": [
    {
     "name": "stdout",
     "output_type": "stream",
     "text": [
      "row[user]: alice\n",
      "row: {'user': 'alice', 'amount': 50}\n",
      "type(row[user]): <class 'str'>\n",
      "\n",
      "row[user]: bob\n",
      "row: {'user': 'bob', 'amount': 30}\n",
      "type(row[user]): <class 'str'>\n",
      "\n",
      "row[user]: alice\n",
      "row: {'user': 'alice', 'amount': 20}\n",
      "type(row[user]): <class 'str'>\n",
      "\n"
     ]
    }
   ],
   "source": [
    "result = custom_groupby(data, \"user\")"
   ]
  },
  {
   "cell_type": "code",
   "execution_count": 23,
   "id": "36c7dedc",
   "metadata": {},
   "outputs": [
    {
     "name": "stdout",
     "output_type": "stream",
     "text": [
      "result: {'alice': [{'user': 'alice', 'amount': 50}, {'user': 'alice', 'amount': 20}], 'bob': [{'user': 'bob', 'amount': 30}]}\n"
     ]
    }
   ],
   "source": [
    "print('result:', result)"
   ]
  },
  {
   "cell_type": "markdown",
   "id": "6d8db1fc",
   "metadata": {},
   "source": [
    "The main takeaways from this example are:\n",
    "\n",
    "1. How to group a list of dictionaries by a specific key without relying <br>\n",
    "on external libraries like pandas.\n",
    "<br>\n",
    "\n",
    "2. defaultdict(list) automatically initializes empty lists for new keys, <br>\n",
    "simplifying code by avoiding explicit key existence checks.\n",
    "<br>\n",
    "\n",
    "3. The for loop goes through each dictionary item list called \"data\". On each iteration, <br>\n",
    "it looks up the value associated with the grouping key ('user'), then adds that <br>\n",
    "entire dictionary item to the list of rows already grouped under that key.\n",
    "\n",
    "The \"grouping key\" is the specific dictionary key whose values you want to group by.\n",
    "\n",
    "All dictionaries that share the same \"user\" value, will be grouped together."
   ]
  }
 ],
 "metadata": {
  "kernelspec": {
   "display_name": "Python 3 (ipykernel)",
   "language": "python",
   "name": "python3"
  },
  "language_info": {
   "codemirror_mode": {
    "name": "ipython",
    "version": 3
   },
   "file_extension": ".py",
   "mimetype": "text/x-python",
   "name": "python",
   "nbconvert_exporter": "python",
   "pygments_lexer": "ipython3",
   "version": "3.12.3"
  }
 },
 "nbformat": 4,
 "nbformat_minor": 5
}
