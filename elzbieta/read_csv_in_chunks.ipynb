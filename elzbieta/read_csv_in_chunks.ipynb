{
 "cells": [
  {
   "cell_type": "code",
   "execution_count": 1,
   "id": "924d7b16",
   "metadata": {},
   "outputs": [],
   "source": [
    "import csv"
   ]
  },
  {
   "cell_type": "code",
   "execution_count": 2,
   "id": "171784c4",
   "metadata": {},
   "outputs": [],
   "source": [
    "def read_csv_in_chunks(path, chunk_size):\n",
    "    # Open the CSV file in read mode ('r').\n",
    "    # Using the with statement to open the file adds convenience\n",
    "    # because the file object doesn't have to be manually closed.\n",
    "    with open(path, mode='r') as f:\n",
    "        # csv.DictReader reads each row of the CSV as a dictionary, where:\n",
    "        # The keys are taken from the header (first line),\n",
    "        # The values are strings from each row.\n",
    "        reader = csv.DictReader(f)\n",
    "        \n",
    "        print('reader:', reader)\n",
    "\n",
    "        chunk = []\n",
    "\n",
    "        for row in reader:\n",
    "            chunk.append(row)\n",
    "\n",
    "            if len(chunk) == chunk_size:\n",
    "                '''\n",
    "                When you use yield, Python creates a generator object.\n",
    "                \n",
    "                The advantage of a generator object is its memory efficiency.\n",
    "                It produces values on demand, without loading everything into\n",
    "                memory.\n",
    "\n",
    "                This allows the function to pause at yield, return a chunk,\n",
    "                and resume where it left off on the next iteration.\n",
    "                \n",
    "                If you used return chunk, you'd get only the first chunk,\n",
    "                and then the function would stop.\n",
    "                \n",
    "                With return, only the first 100 rows would be returned by\n",
    "                the function, and then the program would exit. This is not\n",
    "                what you would want to transpire when reading thousands or\n",
    "                millions of rows in a CSV file.\n",
    "                '''\n",
    "                yield chunk\n",
    "                chunk = []\n",
    "        if chunk:\n",
    "            yield chunk"
   ]
  },
  {
   "cell_type": "code",
   "execution_count": null,
   "id": "e500766f",
   "metadata": {},
   "outputs": [],
   "source": [
    "for chunk in read_csv_in_chunks(\"orders.csv\", 100):\n",
    "    process(chunk)"
   ]
  }
 ],
 "metadata": {
  "kernelspec": {
   "display_name": "Python 3 (ipykernel)",
   "language": "python",
   "name": "python3"
  },
  "language_info": {
   "codemirror_mode": {
    "name": "ipython",
    "version": 3
   },
   "file_extension": ".py",
   "mimetype": "text/x-python",
   "name": "python",
   "nbconvert_exporter": "python",
   "pygments_lexer": "ipython3",
   "version": "3.12.3"
  }
 },
 "nbformat": 4,
 "nbformat_minor": 5
}
