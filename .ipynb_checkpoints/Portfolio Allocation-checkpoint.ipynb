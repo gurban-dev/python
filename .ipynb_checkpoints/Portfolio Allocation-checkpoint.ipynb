{
 "cells": [
  {
   "cell_type": "code",
   "execution_count": null,
   "id": "edcf931e",
   "metadata": {},
   "outputs": [],
   "source": [
    "# pandas as pd: A powerful library for data manipulation\n",
    "# and analysis, particularly for working with tabular\n",
    "# data (DataFrame).\n",
    "import pandas as pd\n",
    "\n",
    "# numpy as np: A foundational package for numerical\n",
    "# computations in Python.\n",
    "import numpy as np\n",
    "\n",
    "# pymoo.util.remote import Remote: This imports the Remote\n",
    "# class from the pymoo library (a multi-objective optimization\n",
    "# library). The Remote class helps access remote example\n",
    "# datasets or resources included with the library.\n",
    "from pymoo.util.remote import Remote\n",
    "\n",
    "'''\n",
    "Remote.get_instance(): Returns a singleton instance of the\n",
    "Remote class. This ensures there's only one remote connection/session.\n",
    "\n",
    ".load(\"examples\", \"portfolio_allocation.csv\", to=None):\n",
    "\"examples\": Refers to a folder or namespace within pymoo's remote repository.\n",
    "\n",
    "\"portfolio_allocation.csv\": The filename of the dataset you're loading.\n",
    "\n",
    "to=None: Means don't save the file locally — load it temporarily (in-memory).\n",
    "\n",
    "This line downloads the CSV file portfolio_allocation.csv from pymoo’s\n",
    "remote repository into a temporary file and assigns the file path or\n",
    "buffer to the variable file.\n",
    "'''\n",
    "file = Remote.get_instance().load(\"examples\", \"portfolio_allocation.csv\", to=None)\n",
    "\n",
    "'''\n",
    "pd.read_csv(...): Loads the CSV file into a pandas.DataFrame.\n",
    "\n",
    "file: The path (or buffer) to the CSV file fetched using Remote.load().\n",
    "\n",
    "parse_dates=True: Automatically converts date columns (e.g., \"date\")\n",
    "into datetime objects.\n",
    "\n",
    "index_col=\"date\": Sets the \"date\" column as the index of the DataFrame.\n",
    "'''\n",
    "df = pd.read_csv(file, parse_dates=True, index_col=\"date\")"
   ]
  }
 ],
 "metadata": {
  "kernelspec": {
   "display_name": "Python 3 (ipykernel)",
   "language": "python",
   "name": "python3"
  },
  "language_info": {
   "codemirror_mode": {
    "name": "ipython",
    "version": 3
   },
   "file_extension": ".py",
   "mimetype": "text/x-python",
   "name": "python",
   "nbconvert_exporter": "python",
   "pygments_lexer": "ipython3",
   "version": "3.12.3"
  }
 },
 "nbformat": 4,
 "nbformat_minor": 5
}
