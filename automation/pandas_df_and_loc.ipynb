{
 "cells": [
  {
   "cell_type": "markdown",
   "id": "7e72cbce-0b43-4c87-a13f-aa5745134523",
   "metadata": {},
   "source": [
    "Remember that in Jupyter Notebook, the cells containing <br>\n",
    "source code must be run from top to bottom order.\n",
    "\n",
    "Otherwise, cells could generate errors when attempted to be executed."
   ]
  },
  {
   "cell_type": "markdown",
   "id": "4c115296-4066-4594-a599-9faa88c105f9",
   "metadata": {},
   "source": [
    "Pandas is a Python library used for working with data sets. It has <br>\n",
    "functions for analyzing, cleaning, exploring, and manipulating data.\n",
    "\n",
    "A DataFrame is designed to store two-dimensional, size-mutable, <br>\n",
    "potentially heterogeneous tabular data.\n",
    "\n",
    "Documentation for pandas.DataFrame:\n",
    "\n",
    "https://pandas.pydata.org/docs/reference/api/pandas.DataFrame.html"
   ]
  },
  {
   "cell_type": "code",
   "execution_count": 2,
   "id": "a3f047d9-d80c-4bdd-a10e-e03e1e53d2a5",
   "metadata": {},
   "outputs": [],
   "source": [
    "import pandas as pd"
   ]
  },
  {
   "cell_type": "code",
   "execution_count": 3,
   "id": "dff6224d-81bb-4477-9041-f26a4e449478",
   "metadata": {},
   "outputs": [],
   "source": [
    "'''\n",
    "The first argument, is a list and its data will be stored\n",
    "stored by the DataFrame: [[1, 2], [4, 5], [7, 8]]\n",
    "\n",
    "The second argument is a list of names that will be given\n",
    "to the indexes in the DataFrame.\n",
    "\n",
    "The third argument is a list of name that will be given to\n",
    "the columns in the DataFrame.\n",
    "'''\n",
    "df = pd.DataFrame([[1, 2], [4, 5], [7, 8]],\n",
    "                  index=['cobra', 'viper', 'sidewinder'],\n",
    "                  columns=['max_speed', 'shield'])"
   ]
  },
  {
   "cell_type": "markdown",
   "id": "b4e5f986-d1b0-4f48-9131-daf7736891b6",
   "metadata": {},
   "source": [
    "The pandas.DataFrame.loc property is utilised to access a <br>\n",
    "group of rows and columns by label(s) or a boolean array."
   ]
  },
  {
   "cell_type": "markdown",
   "id": "c8b6dd99-fb87-4673-91ed-f155be1d5d7e",
   "metadata": {},
   "source": [
    "Display or output the \"df\" DataFrame:"
   ]
  },
  {
   "cell_type": "code",
   "execution_count": 4,
   "id": "3021ae52-18b7-4be8-8835-ba46a2e2cc36",
   "metadata": {},
   "outputs": [
    {
     "data": {
      "text/html": [
       "<div>\n",
       "<style scoped>\n",
       "    .dataframe tbody tr th:only-of-type {\n",
       "        vertical-align: middle;\n",
       "    }\n",
       "\n",
       "    .dataframe tbody tr th {\n",
       "        vertical-align: top;\n",
       "    }\n",
       "\n",
       "    .dataframe thead th {\n",
       "        text-align: right;\n",
       "    }\n",
       "</style>\n",
       "<table border=\"1\" class=\"dataframe\">\n",
       "  <thead>\n",
       "    <tr style=\"text-align: right;\">\n",
       "      <th></th>\n",
       "      <th>max_speed</th>\n",
       "      <th>shield</th>\n",
       "    </tr>\n",
       "  </thead>\n",
       "  <tbody>\n",
       "    <tr>\n",
       "      <th>cobra</th>\n",
       "      <td>1</td>\n",
       "      <td>2</td>\n",
       "    </tr>\n",
       "    <tr>\n",
       "      <th>viper</th>\n",
       "      <td>4</td>\n",
       "      <td>5</td>\n",
       "    </tr>\n",
       "    <tr>\n",
       "      <th>sidewinder</th>\n",
       "      <td>7</td>\n",
       "      <td>8</td>\n",
       "    </tr>\n",
       "  </tbody>\n",
       "</table>\n",
       "</div>"
      ],
      "text/plain": [
       "            max_speed  shield\n",
       "cobra               1       2\n",
       "viper               4       5\n",
       "sidewinder          7       8"
      ]
     },
     "execution_count": 4,
     "metadata": {},
     "output_type": "execute_result"
    }
   ],
   "source": [
    "df"
   ]
  },
  {
   "cell_type": "markdown",
   "id": "8fbc2ded-76e3-46ef-8f98-4118bd6b5261",
   "metadata": {},
   "source": [
    "Access the data in the \"viper\" row through the \"viper\" label.\n",
    "\n",
    "The row in this context, is returned as a Series."
   ]
  },
  {
   "cell_type": "code",
   "execution_count": 5,
   "id": "6e6ef8e5-4690-4299-8470-58f6be643b3e",
   "metadata": {},
   "outputs": [
    {
     "data": {
      "text/plain": [
       "max_speed    4\n",
       "shield       5\n",
       "Name: viper, dtype: int64"
      ]
     },
     "execution_count": 5,
     "metadata": {},
     "output_type": "execute_result"
    }
   ],
   "source": [
    "df.loc['viper']"
   ]
  },
  {
   "cell_type": "markdown",
   "id": "0a0b4b21-d832-41ae-83bd-92d455f67a49",
   "metadata": {},
   "source": [
    "Passing a list of labels to the loc property will return a DataFrame:"
   ]
  },
  {
   "cell_type": "code",
   "execution_count": 6,
   "id": "c893c112-87b1-4cec-bd55-24c1f16dc6ee",
   "metadata": {},
   "outputs": [
    {
     "data": {
      "text/html": [
       "<div>\n",
       "<style scoped>\n",
       "    .dataframe tbody tr th:only-of-type {\n",
       "        vertical-align: middle;\n",
       "    }\n",
       "\n",
       "    .dataframe tbody tr th {\n",
       "        vertical-align: top;\n",
       "    }\n",
       "\n",
       "    .dataframe thead th {\n",
       "        text-align: right;\n",
       "    }\n",
       "</style>\n",
       "<table border=\"1\" class=\"dataframe\">\n",
       "  <thead>\n",
       "    <tr style=\"text-align: right;\">\n",
       "      <th></th>\n",
       "      <th>max_speed</th>\n",
       "      <th>shield</th>\n",
       "    </tr>\n",
       "  </thead>\n",
       "  <tbody>\n",
       "    <tr>\n",
       "      <th>viper</th>\n",
       "      <td>4</td>\n",
       "      <td>5</td>\n",
       "    </tr>\n",
       "    <tr>\n",
       "      <th>sidewinder</th>\n",
       "      <td>7</td>\n",
       "      <td>8</td>\n",
       "    </tr>\n",
       "  </tbody>\n",
       "</table>\n",
       "</div>"
      ],
      "text/plain": [
       "            max_speed  shield\n",
       "viper               4       5\n",
       "sidewinder          7       8"
      ]
     },
     "execution_count": 6,
     "metadata": {},
     "output_type": "execute_result"
    }
   ],
   "source": [
    "df.loc[['viper', 'sidewinder']]"
   ]
  },
  {
   "cell_type": "markdown",
   "id": "a37a8441-5e2f-4dac-8f69-87c436dffb96",
   "metadata": {},
   "source": [
    "To obtain the value of the data in a particular row and column a <br>\n",
    "a single label can be passed for both a column name and a row . <br>\n",
    "\"cobra\" is the row name and \"shield\" is the column name. The value stored\n",
    "in that row and column is 2."
   ]
  },
  {
   "cell_type": "markdown",
   "id": "152eb1aa-ade1-4e0a-b712-abdd9c589e57",
   "metadata": {},
   "source": [
    "The pandas.Dataframe.loc property or attribute makes it clear that a group <br>\n",
    "of rows and columns will be accessed by label(s) or a boolean array."
   ]
  },
  {
   "cell_type": "markdown",
   "id": "5df2cf4f-b2b5-4722-9452-c51fbbd306dc",
   "metadata": {},
   "source": [
    "Select the single value in row \"cobra\" and column \"shield\"."
   ]
  },
  {
   "cell_type": "code",
   "execution_count": 8,
   "id": "01024b49-e1de-4957-8e58-92fe28cc3672",
   "metadata": {},
   "outputs": [
    {
     "data": {
      "text/plain": [
       "np.int64(2)"
      ]
     },
     "execution_count": 8,
     "metadata": {},
     "output_type": "execute_result"
    }
   ],
   "source": [
    "df.loc['cobra', 'shield']"
   ]
  },
  {
   "cell_type": "markdown",
   "id": "a5f39e2f-a93e-4aee-a942-9fb669b56905",
   "metadata": {},
   "source": [
    "Slice with labels for row and single label for column. <br>\n",
    "\n",
    "Extract the values in the \"max_speed\" column for rows \"cobra\" to \"sidewinder\"."
   ]
  },
  {
   "cell_type": "code",
   "execution_count": 11,
   "id": "e9748285-99ba-4752-8d5d-e69b1daba10e",
   "metadata": {},
   "outputs": [
    {
     "data": {
      "text/plain": [
       "cobra         1\n",
       "viper         4\n",
       "sidewinder    7\n",
       "Name: max_speed, dtype: int64"
      ]
     },
     "execution_count": 11,
     "metadata": {},
     "output_type": "execute_result"
    }
   ],
   "source": [
    "df.loc['cobra':'sidewinder', 'max_speed']"
   ]
  },
  {
   "cell_type": "markdown",
   "id": "0eb60154-b9a5-43ef-9d65-f2bd20d3ec85",
   "metadata": {},
   "source": [
    "Extract all of the rows containing a \"shield\" value greater than six."
   ]
  },
  {
   "cell_type": "code",
   "execution_count": 15,
   "id": "1ef05877-7f3d-4f7e-8bea-2de056b88ffe",
   "metadata": {},
   "outputs": [
    {
     "data": {
      "text/html": [
       "<div>\n",
       "<style scoped>\n",
       "    .dataframe tbody tr th:only-of-type {\n",
       "        vertical-align: middle;\n",
       "    }\n",
       "\n",
       "    .dataframe tbody tr th {\n",
       "        vertical-align: top;\n",
       "    }\n",
       "\n",
       "    .dataframe thead th {\n",
       "        text-align: right;\n",
       "    }\n",
       "</style>\n",
       "<table border=\"1\" class=\"dataframe\">\n",
       "  <thead>\n",
       "    <tr style=\"text-align: right;\">\n",
       "      <th></th>\n",
       "      <th>max_speed</th>\n",
       "      <th>shield</th>\n",
       "    </tr>\n",
       "  </thead>\n",
       "  <tbody>\n",
       "    <tr>\n",
       "      <th>sidewinder</th>\n",
       "      <td>7</td>\n",
       "      <td>8</td>\n",
       "    </tr>\n",
       "  </tbody>\n",
       "</table>\n",
       "</div>"
      ],
      "text/plain": [
       "            max_speed  shield\n",
       "sidewinder          7       8"
      ]
     },
     "execution_count": 15,
     "metadata": {},
     "output_type": "execute_result"
    }
   ],
   "source": [
    "df.loc[df['shield'] > 6]"
   ]
  },
  {
   "cell_type": "markdown",
   "id": "1d8dc8a3-7948-4353-b8f8-7bc35932a799",
   "metadata": {},
   "source": [
    "Extract all of the rows containing a \"shield\" value greater <br>\n",
    "than six, but only output the \"max_speed\" column."
   ]
  },
  {
   "cell_type": "code",
   "execution_count": 17,
   "id": "381eae1a-20e3-4362-93bf-c9846cfc1645",
   "metadata": {},
   "outputs": [
    {
     "data": {
      "text/html": [
       "<div>\n",
       "<style scoped>\n",
       "    .dataframe tbody tr th:only-of-type {\n",
       "        vertical-align: middle;\n",
       "    }\n",
       "\n",
       "    .dataframe tbody tr th {\n",
       "        vertical-align: top;\n",
       "    }\n",
       "\n",
       "    .dataframe thead th {\n",
       "        text-align: right;\n",
       "    }\n",
       "</style>\n",
       "<table border=\"1\" class=\"dataframe\">\n",
       "  <thead>\n",
       "    <tr style=\"text-align: right;\">\n",
       "      <th></th>\n",
       "      <th>max_speed</th>\n",
       "    </tr>\n",
       "  </thead>\n",
       "  <tbody>\n",
       "    <tr>\n",
       "      <th>sidewinder</th>\n",
       "      <td>7</td>\n",
       "    </tr>\n",
       "  </tbody>\n",
       "</table>\n",
       "</div>"
      ],
      "text/plain": [
       "            max_speed\n",
       "sidewinder          7"
      ]
     },
     "execution_count": 17,
     "metadata": {},
     "output_type": "execute_result"
    }
   ],
   "source": [
    "df.loc[df['shield'] > 6, ['max_speed']]"
   ]
  },
  {
   "cell_type": "markdown",
   "id": "64e2d365-121e-4adf-9aed-9ed490ba743f",
   "metadata": {},
   "source": [
    "Extract the rows whose values in the \"max_speed\" are greater <br>\n",
    "than 1 and whose values in the \"shield\" column are less than 8.\n",
    "\n",
    "& simply means \"and\" in the condition.\n",
    "\n",
    "Notice that each condition is wrapped in parentheses ()."
   ]
  },
  {
   "cell_type": "code",
   "execution_count": 19,
   "id": "3d75b440-25cb-444e-b514-0954af7e125d",
   "metadata": {},
   "outputs": [
    {
     "data": {
      "text/html": [
       "<div>\n",
       "<style scoped>\n",
       "    .dataframe tbody tr th:only-of-type {\n",
       "        vertical-align: middle;\n",
       "    }\n",
       "\n",
       "    .dataframe tbody tr th {\n",
       "        vertical-align: top;\n",
       "    }\n",
       "\n",
       "    .dataframe thead th {\n",
       "        text-align: right;\n",
       "    }\n",
       "</style>\n",
       "<table border=\"1\" class=\"dataframe\">\n",
       "  <thead>\n",
       "    <tr style=\"text-align: right;\">\n",
       "      <th></th>\n",
       "      <th>max_speed</th>\n",
       "      <th>shield</th>\n",
       "    </tr>\n",
       "  </thead>\n",
       "  <tbody>\n",
       "    <tr>\n",
       "      <th>viper</th>\n",
       "      <td>4</td>\n",
       "      <td>5</td>\n",
       "    </tr>\n",
       "  </tbody>\n",
       "</table>\n",
       "</div>"
      ],
      "text/plain": [
       "       max_speed  shield\n",
       "viper          4       5"
      ]
     },
     "execution_count": 19,
     "metadata": {},
     "output_type": "execute_result"
    }
   ],
   "source": [
    "df.loc[(df['max_speed'] > 1) & (df['shield'] < 8)]"
   ]
  },
  {
   "cell_type": "markdown",
   "id": "43199747-0c82-4e45-a719-993826999901",
   "metadata": {},
   "source": [
    "Extract the rows whose values in the \"max_speed\" are greater <br>\n",
    "than 4 or and whose values in the \"shield\" column are less than 5.\n",
    "\n",
    "| simply means \"or\" in the condition."
   ]
  },
  {
   "cell_type": "code",
   "execution_count": 21,
   "id": "bef658ac-d6d9-4ed6-82f0-3ceeaf11d304",
   "metadata": {},
   "outputs": [
    {
     "data": {
      "text/html": [
       "<div>\n",
       "<style scoped>\n",
       "    .dataframe tbody tr th:only-of-type {\n",
       "        vertical-align: middle;\n",
       "    }\n",
       "\n",
       "    .dataframe tbody tr th {\n",
       "        vertical-align: top;\n",
       "    }\n",
       "\n",
       "    .dataframe thead th {\n",
       "        text-align: right;\n",
       "    }\n",
       "</style>\n",
       "<table border=\"1\" class=\"dataframe\">\n",
       "  <thead>\n",
       "    <tr style=\"text-align: right;\">\n",
       "      <th></th>\n",
       "      <th>max_speed</th>\n",
       "      <th>shield</th>\n",
       "    </tr>\n",
       "  </thead>\n",
       "  <tbody>\n",
       "    <tr>\n",
       "      <th>cobra</th>\n",
       "      <td>1</td>\n",
       "      <td>2</td>\n",
       "    </tr>\n",
       "    <tr>\n",
       "      <th>sidewinder</th>\n",
       "      <td>7</td>\n",
       "      <td>8</td>\n",
       "    </tr>\n",
       "  </tbody>\n",
       "</table>\n",
       "</div>"
      ],
      "text/plain": [
       "            max_speed  shield\n",
       "cobra               1       2\n",
       "sidewinder          7       8"
      ]
     },
     "execution_count": 21,
     "metadata": {},
     "output_type": "execute_result"
    }
   ],
   "source": [
    "df.loc[(df['max_speed'] > 4) | (df['shield'] < 5)]"
   ]
  },
  {
   "cell_type": "markdown",
   "id": "b3ab6c64-57a5-43c5-83b3-4d227ca87d02",
   "metadata": {},
   "source": [
    "In the \"shield\" column, set 50 as the value for <br>\n",
    "the rows named \"viper\" and \"sidewinder\"."
   ]
  },
  {
   "cell_type": "code",
   "execution_count": 22,
   "id": "b3719ea7-ad65-4ad9-b636-479939440ad1",
   "metadata": {},
   "outputs": [],
   "source": [
    "df.loc[['viper', 'sidewinder'], ['shield']] = 50"
   ]
  },
  {
   "cell_type": "markdown",
   "id": "4ea4055e-7dd2-428d-95b8-c94a0abd35e0",
   "metadata": {},
   "source": [
    "See the updated DataFrame."
   ]
  },
  {
   "cell_type": "code",
   "execution_count": 23,
   "id": "3c71f2f0-fdcc-415e-bcef-a7a548625802",
   "metadata": {},
   "outputs": [
    {
     "data": {
      "text/html": [
       "<div>\n",
       "<style scoped>\n",
       "    .dataframe tbody tr th:only-of-type {\n",
       "        vertical-align: middle;\n",
       "    }\n",
       "\n",
       "    .dataframe tbody tr th {\n",
       "        vertical-align: top;\n",
       "    }\n",
       "\n",
       "    .dataframe thead th {\n",
       "        text-align: right;\n",
       "    }\n",
       "</style>\n",
       "<table border=\"1\" class=\"dataframe\">\n",
       "  <thead>\n",
       "    <tr style=\"text-align: right;\">\n",
       "      <th></th>\n",
       "      <th>max_speed</th>\n",
       "      <th>shield</th>\n",
       "    </tr>\n",
       "  </thead>\n",
       "  <tbody>\n",
       "    <tr>\n",
       "      <th>cobra</th>\n",
       "      <td>1</td>\n",
       "      <td>2</td>\n",
       "    </tr>\n",
       "    <tr>\n",
       "      <th>viper</th>\n",
       "      <td>4</td>\n",
       "      <td>50</td>\n",
       "    </tr>\n",
       "    <tr>\n",
       "      <th>sidewinder</th>\n",
       "      <td>7</td>\n",
       "      <td>50</td>\n",
       "    </tr>\n",
       "  </tbody>\n",
       "</table>\n",
       "</div>"
      ],
      "text/plain": [
       "            max_speed  shield\n",
       "cobra               1       2\n",
       "viper               4      50\n",
       "sidewinder          7      50"
      ]
     },
     "execution_count": 23,
     "metadata": {},
     "output_type": "execute_result"
    }
   ],
   "source": [
    "df"
   ]
  },
  {
   "cell_type": "markdown",
   "id": "8730708b-5b07-4669-adb7-83cfd7896367",
   "metadata": {},
   "source": [
    "Set all columns of the row \"cobra\" to a value of 10."
   ]
  },
  {
   "cell_type": "code",
   "execution_count": 28,
   "id": "84838d91-cd75-4c61-8a9c-7ef2c898d024",
   "metadata": {},
   "outputs": [],
   "source": [
    "df.loc['cobra'] = 10"
   ]
  },
  {
   "cell_type": "code",
   "execution_count": 29,
   "id": "52f5e8c1-14d8-4fac-b0c2-3e34e41338c0",
   "metadata": {},
   "outputs": [
    {
     "data": {
      "text/html": [
       "<div>\n",
       "<style scoped>\n",
       "    .dataframe tbody tr th:only-of-type {\n",
       "        vertical-align: middle;\n",
       "    }\n",
       "\n",
       "    .dataframe tbody tr th {\n",
       "        vertical-align: top;\n",
       "    }\n",
       "\n",
       "    .dataframe thead th {\n",
       "        text-align: right;\n",
       "    }\n",
       "</style>\n",
       "<table border=\"1\" class=\"dataframe\">\n",
       "  <thead>\n",
       "    <tr style=\"text-align: right;\">\n",
       "      <th></th>\n",
       "      <th>max_speed</th>\n",
       "      <th>shield</th>\n",
       "    </tr>\n",
       "  </thead>\n",
       "  <tbody>\n",
       "    <tr>\n",
       "      <th>cobra</th>\n",
       "      <td>10</td>\n",
       "      <td>10</td>\n",
       "    </tr>\n",
       "    <tr>\n",
       "      <th>viper</th>\n",
       "      <td>4</td>\n",
       "      <td>50</td>\n",
       "    </tr>\n",
       "    <tr>\n",
       "      <th>sidewinder</th>\n",
       "      <td>7</td>\n",
       "      <td>50</td>\n",
       "    </tr>\n",
       "  </tbody>\n",
       "</table>\n",
       "</div>"
      ],
      "text/plain": [
       "            max_speed  shield\n",
       "cobra              10      10\n",
       "viper               4      50\n",
       "sidewinder          7      50"
      ]
     },
     "execution_count": 29,
     "metadata": {},
     "output_type": "execute_result"
    }
   ],
   "source": [
    "df"
   ]
  },
  {
   "cell_type": "markdown",
   "id": "f33a69ae-b344-4363-a48d-49163805dc68",
   "metadata": {},
   "source": [
    "Remember that slicing expressions select a range of characters from a string.\n",
    "\n",
    "The following is the format for slicing a string variable in Python: <br>\n",
    "string[start : end] <br>\n",
    "\n",
    "[:] will select the entire range of characters from a string."
   ]
  },
  {
   "cell_type": "code",
   "execution_count": 44,
   "id": "0b673a5e-4740-40b4-8f49-e5d06fb0ce80",
   "metadata": {},
   "outputs": [
    {
     "data": {
      "text/plain": [
       "'ZURICH'"
      ]
     },
     "execution_count": 44,
     "metadata": {},
     "output_type": "execute_result"
    }
   ],
   "source": [
    "city_name = 'Zurich'\n",
    "\n",
    "# city_name = city_name.upper()\n",
    "city_name = city_name[:].upper()\n",
    "\n",
    "city_name"
   ]
  },
  {
   "cell_type": "markdown",
   "id": "4e21d66b-283d-440b-bb26-1c2df3a108bc",
   "metadata": {},
   "source": [
    "Set all of the rows in the \"max_speed\" column to a value of 30."
   ]
  },
  {
   "cell_type": "code",
   "execution_count": 34,
   "id": "74b5dfd1-356e-4924-818f-e3d552f84296",
   "metadata": {},
   "outputs": [],
   "source": [
    "df.loc[:, 'max_speed'] = 30"
   ]
  },
  {
   "cell_type": "code",
   "execution_count": 35,
   "id": "9ca03517-da38-4fa9-abe5-490c2d2431f5",
   "metadata": {},
   "outputs": [
    {
     "data": {
      "text/html": [
       "<div>\n",
       "<style scoped>\n",
       "    .dataframe tbody tr th:only-of-type {\n",
       "        vertical-align: middle;\n",
       "    }\n",
       "\n",
       "    .dataframe tbody tr th {\n",
       "        vertical-align: top;\n",
       "    }\n",
       "\n",
       "    .dataframe thead th {\n",
       "        text-align: right;\n",
       "    }\n",
       "</style>\n",
       "<table border=\"1\" class=\"dataframe\">\n",
       "  <thead>\n",
       "    <tr style=\"text-align: right;\">\n",
       "      <th></th>\n",
       "      <th>max_speed</th>\n",
       "      <th>shield</th>\n",
       "    </tr>\n",
       "  </thead>\n",
       "  <tbody>\n",
       "    <tr>\n",
       "      <th>cobra</th>\n",
       "      <td>30</td>\n",
       "      <td>10</td>\n",
       "    </tr>\n",
       "    <tr>\n",
       "      <th>viper</th>\n",
       "      <td>30</td>\n",
       "      <td>50</td>\n",
       "    </tr>\n",
       "    <tr>\n",
       "      <th>sidewinder</th>\n",
       "      <td>30</td>\n",
       "      <td>50</td>\n",
       "    </tr>\n",
       "  </tbody>\n",
       "</table>\n",
       "</div>"
      ],
      "text/plain": [
       "            max_speed  shield\n",
       "cobra              30      10\n",
       "viper              30      50\n",
       "sidewinder         30      50"
      ]
     },
     "execution_count": 35,
     "metadata": {},
     "output_type": "execute_result"
    }
   ],
   "source": [
    "df"
   ]
  },
  {
   "cell_type": "markdown",
   "id": "3947f833-f8e2-46d1-89ff-3de7c00a4cf6",
   "metadata": {},
   "source": [
    "Assign a value of 0 to all of the rows containing <br>\n",
    "a \"shield\" value that is greater than 35."
   ]
  },
  {
   "cell_type": "code",
   "execution_count": 38,
   "id": "5482cabe-9529-4b85-92ae-1a0ecc569482",
   "metadata": {},
   "outputs": [],
   "source": [
    "df.loc[df['shield'] > 35] = 0"
   ]
  },
  {
   "cell_type": "code",
   "execution_count": 39,
   "id": "f12e82f6-e8e7-4e28-a3be-37884bee2797",
   "metadata": {},
   "outputs": [
    {
     "data": {
      "text/html": [
       "<div>\n",
       "<style scoped>\n",
       "    .dataframe tbody tr th:only-of-type {\n",
       "        vertical-align: middle;\n",
       "    }\n",
       "\n",
       "    .dataframe tbody tr th {\n",
       "        vertical-align: top;\n",
       "    }\n",
       "\n",
       "    .dataframe thead th {\n",
       "        text-align: right;\n",
       "    }\n",
       "</style>\n",
       "<table border=\"1\" class=\"dataframe\">\n",
       "  <thead>\n",
       "    <tr style=\"text-align: right;\">\n",
       "      <th></th>\n",
       "      <th>max_speed</th>\n",
       "      <th>shield</th>\n",
       "    </tr>\n",
       "  </thead>\n",
       "  <tbody>\n",
       "    <tr>\n",
       "      <th>cobra</th>\n",
       "      <td>30</td>\n",
       "      <td>10</td>\n",
       "    </tr>\n",
       "    <tr>\n",
       "      <th>viper</th>\n",
       "      <td>0</td>\n",
       "      <td>0</td>\n",
       "    </tr>\n",
       "    <tr>\n",
       "      <th>sidewinder</th>\n",
       "      <td>0</td>\n",
       "      <td>0</td>\n",
       "    </tr>\n",
       "  </tbody>\n",
       "</table>\n",
       "</div>"
      ],
      "text/plain": [
       "            max_speed  shield\n",
       "cobra              30      10\n",
       "viper               0       0\n",
       "sidewinder          0       0"
      ]
     },
     "execution_count": 39,
     "metadata": {},
     "output_type": "execute_result"
    }
   ],
   "source": [
    "df"
   ]
  },
  {
   "cell_type": "code",
   "execution_count": null,
   "id": "36428eac-72f2-4015-8160-50d6fe1780c9",
   "metadata": {},
   "outputs": [],
   "source": []
  }
 ],
 "metadata": {
  "kernelspec": {
   "display_name": "Python 3 (ipykernel)",
   "language": "python",
   "name": "python3"
  },
  "language_info": {
   "codemirror_mode": {
    "name": "ipython",
    "version": 3
   },
   "file_extension": ".py",
   "mimetype": "text/x-python",
   "name": "python",
   "nbconvert_exporter": "python",
   "pygments_lexer": "ipython3",
   "version": "3.11.5"
  }
 },
 "nbformat": 4,
 "nbformat_minor": 5
}
