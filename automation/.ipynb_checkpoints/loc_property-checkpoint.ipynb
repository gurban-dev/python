{
 "cells": [
  {
   "cell_type": "markdown",
   "id": "7e72cbce-0b43-4c87-a13f-aa5745134523",
   "metadata": {},
   "source": [
    "Pandas is a Python library used for working with data sets. It has <br>\n",
    "functions for analyzing, cleaning, exploring, and manipulating data.\n",
    "\n",
    "A DataFrame is designed to store two-dimensional, size-mutable, <br>\n",
    "potentially heterogeneous tabular data.\n",
    "\n",
    "Documentation for pandas.DataFrame:\n",
    "\n",
    "https://pandas.pydata.org/docs/reference/api/pandas.DataFrame.html"
   ]
  },
  {
   "cell_type": "code",
   "execution_count": null,
   "id": "54e95ac8-295c-4335-b07d-88ae4f78d26c",
   "metadata": {},
   "outputs": [],
   "source": []
  },
  {
   "cell_type": "code",
   "execution_count": 1,
   "id": "a3f047d9-d80c-4bdd-a10e-e03e1e53d2a5",
   "metadata": {},
   "outputs": [],
   "source": [
    "import pandas as pd"
   ]
  },
  {
   "cell_type": "code",
   "execution_count": null,
   "id": "dff6224d-81bb-4477-9041-f26a4e449478",
   "metadata": {},
   "outputs": [],
   "source": [
    "df = pd.DataFrame([[1, 2], [4, 5], [7, 8]],\n",
    "                  index=['cobra', 'viper', 'sidewinder'],\n",
    "                  columns=['max_speed', 'shield'])"
   ]
  },
  {
   "cell_type": "markdown",
   "id": "b4e5f986-d1b0-4f48-9131-daf7736891b6",
   "metadata": {},
   "source": [
    "The pandas.DataFrame.loc property is utilised to access a <br>\n",
    "group of rows and columns by label(s) or a boolean array."
   ]
  },
  {
   "cell_type": "code",
   "execution_count": null,
   "id": "90ec928e-cfcb-4988-aaa6-78ae3a83402d",
   "metadata": {},
   "outputs": [],
   "source": []
  }
 ],
 "metadata": {
  "kernelspec": {
   "display_name": "Python 3 (ipykernel)",
   "language": "python",
   "name": "python3"
  },
  "language_info": {
   "codemirror_mode": {
    "name": "ipython",
    "version": 3
   },
   "file_extension": ".py",
   "mimetype": "text/x-python",
   "name": "python",
   "nbconvert_exporter": "python",
   "pygments_lexer": "ipython3",
   "version": "3.11.5"
  }
 },
 "nbformat": 4,
 "nbformat_minor": 5
}
