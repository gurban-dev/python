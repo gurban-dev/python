{
 "cells": [
  {
   "cell_type": "markdown",
   "id": "95125684-3b8c-4aed-b961-37aeafd2dea8",
   "metadata": {},
   "source": [
    "The Pandas Python library has a read_excel() function that accepts a string literal <br>\n",
    "consisting of the path to the excel spreadsheet, and returns a DataFrame. <br>\n",
    "\n",
    "Supports the following file extensions read from a local file system or URL: <br>\n",
    "xls, xlsx, xlsm, xlsb, odf, ods and odt\n",
    "\n",
    "Supports an option to read a single sheet or a list of sheets. <br>"
   ]
  },
  {
   "cell_type": "markdown",
   "id": "79c40268-5087-4740-91db-1d8830758cad",
   "metadata": {},
   "source": [
    "Rows can be dropped from a dataset with the drop() method if they contain <br>\n",
    "unwanted data: <br>\n",
    "data_frame_name.drop(index=data_frame_name.index[0], axis=0, inplace=True)\n",
    "\n",
    "Assigning 0 to the \"axis\" parameter indicates that labels from rows will be dropped.\n",
    "\n",
    "Assigning True to the \"inplace\" parameter will perform the operation in the <br>\n",
    "original DataFrame rather than return a copy of the updated DataFrame."
   ]
  },
  {
   "cell_type": "markdown",
   "id": "03bbac38-9041-4059-a310-bf0015f61789",
   "metadata": {},
   "source": [
    "Objective: <br>\n",
    "Write a program that imports data from an excel spreadsheet and uses it to create a DataFrame."
   ]
  },
  {
   "cell_type": "code",
   "execution_count": 1,
   "id": "344f61f5-a0ac-4cba-b2ad-b19221ac0362",
   "metadata": {},
   "outputs": [],
   "source": [
    "import pandas as pd"
   ]
  },
  {
   "cell_type": "code",
   "execution_count": 2,
   "id": "9a0b3e36-3868-4120-a85c-6cc33ff08cf2",
   "metadata": {},
   "outputs": [],
   "source": [
    "df = pd.read_excel('./HDI_Table.xlsx')"
   ]
  },
  {
   "cell_type": "markdown",
   "id": "2acc5dd7-228e-4a25-8d0f-d496fa474b89",
   "metadata": {},
   "source": [
    "To view all of the rows in DataFrame:"
   ]
  },
  {
   "cell_type": "code",
   "execution_count": 3,
   "id": "9c82b8d9-5c1c-417a-94ef-1041d2a5f3e3",
   "metadata": {},
   "outputs": [],
   "source": [
    "# pd.set_option(\"display.max_rows\", 999)"
   ]
  },
  {
   "cell_type": "markdown",
   "id": "b7dce8ad-e66d-4111-b20d-ca99222dd076",
   "metadata": {},
   "source": [
    "Drop the rows containing unwanted data."
   ]
  },
  {
   "cell_type": "code",
   "execution_count": 4,
   "id": "fc51b5bc-50d7-4bbc-b23b-0a9c5bc21802",
   "metadata": {},
   "outputs": [],
   "source": [
    "df.drop(df.index[:3], inplace=True)"
   ]
  },
  {
   "cell_type": "code",
   "execution_count": 5,
   "id": "9a8f9851-d2af-4c9b-a74c-8b5bac8a0c80",
   "metadata": {},
   "outputs": [],
   "source": [
    "df.drop(df.index[198:], inplace=True)"
   ]
  },
  {
   "cell_type": "code",
   "execution_count": 6,
   "id": "61a5a2a4-82bd-4c62-be32-f42405909f0d",
   "metadata": {},
   "outputs": [],
   "source": [
    "df.drop([6, 73, 123, 168], inplace=True)"
   ]
  },
  {
   "cell_type": "markdown",
   "id": "15317af5-375d-487a-9f94-dcd55209fe5a",
   "metadata": {},
   "source": [
    "Drop the columns containing unwanted data."
   ]
  },
  {
   "cell_type": "code",
   "execution_count": 7,
   "id": "aa6e80b9-3142-4965-8ea8-4194fd037175",
   "metadata": {},
   "outputs": [],
   "source": [
    "df.drop(df.columns[[0, 3, 5, 7, 9, 11, 12, 13, 14]], axis=1, inplace=True)"
   ]
  },
  {
   "cell_type": "code",
   "execution_count": 8,
   "id": "25aa2291-a40b-4b45-bd64-e9a57f4a43e2",
   "metadata": {},
   "outputs": [
    {
     "data": {
      "text/html": [
       "<div>\n",
       "<style scoped>\n",
       "    .dataframe tbody tr th:only-of-type {\n",
       "        vertical-align: middle;\n",
       "    }\n",
       "\n",
       "    .dataframe tbody tr th {\n",
       "        vertical-align: top;\n",
       "    }\n",
       "\n",
       "    .dataframe thead th {\n",
       "        text-align: right;\n",
       "    }\n",
       "</style>\n",
       "<table border=\"1\" class=\"dataframe\">\n",
       "  <thead>\n",
       "    <tr style=\"text-align: right;\">\n",
       "      <th></th>\n",
       "      <th>index</th>\n",
       "      <th>Table 1. Human Development Index and its components</th>\n",
       "      <th>Unnamed: 2</th>\n",
       "      <th>Unnamed: 4</th>\n",
       "      <th>Unnamed: 6</th>\n",
       "      <th>Unnamed: 8</th>\n",
       "      <th>Unnamed: 10</th>\n",
       "    </tr>\n",
       "  </thead>\n",
       "  <tbody>\n",
       "    <tr>\n",
       "      <th>0</th>\n",
       "      <td>3</td>\n",
       "      <td>NaN</td>\n",
       "      <td>Human Development Index (HDI)</td>\n",
       "      <td>Life expectancy at birth</td>\n",
       "      <td>Expected years of schooling</td>\n",
       "      <td>Mean years of schooling</td>\n",
       "      <td>Gross national income (GNI) per capita</td>\n",
       "    </tr>\n",
       "    <tr>\n",
       "      <th>1</th>\n",
       "      <td>4</td>\n",
       "      <td>Country</td>\n",
       "      <td>Value</td>\n",
       "      <td>(years)</td>\n",
       "      <td>(years)</td>\n",
       "      <td>(years)</td>\n",
       "      <td>(2017 PPP $)</td>\n",
       "    </tr>\n",
       "    <tr>\n",
       "      <th>2</th>\n",
       "      <td>5</td>\n",
       "      <td>NaN</td>\n",
       "      <td>2021</td>\n",
       "      <td>2021</td>\n",
       "      <td>2021</td>\n",
       "      <td>2021</td>\n",
       "      <td>2021</td>\n",
       "    </tr>\n",
       "    <tr>\n",
       "      <th>3</th>\n",
       "      <td>7</td>\n",
       "      <td>Switzerland</td>\n",
       "      <td>0.962</td>\n",
       "      <td>83.9872</td>\n",
       "      <td>16.500299</td>\n",
       "      <td>13.85966</td>\n",
       "      <td>66933.00454</td>\n",
       "    </tr>\n",
       "    <tr>\n",
       "      <th>4</th>\n",
       "      <td>8</td>\n",
       "      <td>Norway</td>\n",
       "      <td>0.961</td>\n",
       "      <td>83.2339</td>\n",
       "      <td>18.1852</td>\n",
       "      <td>13.00363</td>\n",
       "      <td>64660.10622</td>\n",
       "    </tr>\n",
       "    <tr>\n",
       "      <th>...</th>\n",
       "      <td>...</td>\n",
       "      <td>...</td>\n",
       "      <td>...</td>\n",
       "      <td>...</td>\n",
       "      <td>...</td>\n",
       "      <td>...</td>\n",
       "      <td>...</td>\n",
       "    </tr>\n",
       "    <tr>\n",
       "      <th>189</th>\n",
       "      <td>196</td>\n",
       "      <td>Burundi</td>\n",
       "      <td>0.426</td>\n",
       "      <td>61.6627</td>\n",
       "      <td>10.722722</td>\n",
       "      <td>3.129267</td>\n",
       "      <td>731.786709</td>\n",
       "    </tr>\n",
       "    <tr>\n",
       "      <th>190</th>\n",
       "      <td>197</td>\n",
       "      <td>Central African Republic</td>\n",
       "      <td>0.404</td>\n",
       "      <td>53.8947</td>\n",
       "      <td>8.040172</td>\n",
       "      <td>4.334</td>\n",
       "      <td>966.058611</td>\n",
       "    </tr>\n",
       "    <tr>\n",
       "      <th>191</th>\n",
       "      <td>198</td>\n",
       "      <td>Niger</td>\n",
       "      <td>0.4</td>\n",
       "      <td>61.5763</td>\n",
       "      <td>6.957112</td>\n",
       "      <td>2.116717</td>\n",
       "      <td>1239.866936</td>\n",
       "    </tr>\n",
       "    <tr>\n",
       "      <th>192</th>\n",
       "      <td>199</td>\n",
       "      <td>Chad</td>\n",
       "      <td>0.394</td>\n",
       "      <td>52.5254</td>\n",
       "      <td>8.035914</td>\n",
       "      <td>2.573774</td>\n",
       "      <td>1364.169417</td>\n",
       "    </tr>\n",
       "    <tr>\n",
       "      <th>193</th>\n",
       "      <td>200</td>\n",
       "      <td>South Sudan</td>\n",
       "      <td>0.385</td>\n",
       "      <td>54.9752</td>\n",
       "      <td>5.54251</td>\n",
       "      <td>5.72614</td>\n",
       "      <td>767.787</td>\n",
       "    </tr>\n",
       "  </tbody>\n",
       "</table>\n",
       "<p>194 rows × 7 columns</p>\n",
       "</div>"
      ],
      "text/plain": [
       "     index Table 1. Human Development Index and its components   \\\n",
       "0        3                                                NaN     \n",
       "1        4                                            Country     \n",
       "2        5                                                NaN     \n",
       "3        7                                        Switzerland     \n",
       "4        8                                             Norway     \n",
       "..     ...                                                ...     \n",
       "189    196                                            Burundi     \n",
       "190    197                           Central African Republic     \n",
       "191    198                                              Niger     \n",
       "192    199                                               Chad     \n",
       "193    200                                        South Sudan     \n",
       "\n",
       "                         Unnamed: 2                Unnamed: 4  \\\n",
       "0    Human Development Index (HDI)   Life expectancy at birth   \n",
       "1                             Value                   (years)   \n",
       "2                              2021                      2021   \n",
       "3                             0.962                   83.9872   \n",
       "4                             0.961                   83.2339   \n",
       "..                              ...                       ...   \n",
       "189                           0.426                   61.6627   \n",
       "190                           0.404                   53.8947   \n",
       "191                             0.4                   61.5763   \n",
       "192                           0.394                   52.5254   \n",
       "193                           0.385                   54.9752   \n",
       "\n",
       "                      Unnamed: 6               Unnamed: 8  \\\n",
       "0    Expected years of schooling  Mean years of schooling   \n",
       "1                        (years)                  (years)   \n",
       "2                           2021                     2021   \n",
       "3                      16.500299                 13.85966   \n",
       "4                        18.1852                 13.00363   \n",
       "..                           ...                      ...   \n",
       "189                    10.722722                 3.129267   \n",
       "190                     8.040172                    4.334   \n",
       "191                     6.957112                 2.116717   \n",
       "192                     8.035914                 2.573774   \n",
       "193                      5.54251                  5.72614   \n",
       "\n",
       "                                Unnamed: 10  \n",
       "0    Gross national income (GNI) per capita  \n",
       "1                              (2017 PPP $)  \n",
       "2                                      2021  \n",
       "3                               66933.00454  \n",
       "4                               64660.10622  \n",
       "..                                      ...  \n",
       "189                              731.786709  \n",
       "190                              966.058611  \n",
       "191                             1239.866936  \n",
       "192                             1364.169417  \n",
       "193                                 767.787  \n",
       "\n",
       "[194 rows x 7 columns]"
      ]
     },
     "execution_count": 8,
     "metadata": {},
     "output_type": "execute_result"
    }
   ],
   "source": [
    "df.reset_index()"
   ]
  },
  {
   "cell_type": "code",
   "execution_count": 18,
   "id": "cfc5ecae-6590-4db3-aae8-1705d9010471",
   "metadata": {},
   "outputs": [
    {
     "data": {
      "text/plain": [
       "Index(['Table 1. Human Development Index and its components ', 'Unnamed: 2',\n",
       "       'Unnamed: 4', 'Unnamed: 6', 'Unnamed: 8', 'Unnamed: 10'],\n",
       "      dtype='object')"
      ]
     },
     "execution_count": 18,
     "metadata": {},
     "output_type": "execute_result"
    }
   ],
   "source": [
    "# Display all of the columns in the DataFrame.\n",
    "df.columns"
   ]
  },
  {
   "cell_type": "code",
   "execution_count": 19,
   "id": "f1bf2635-7cb0-4dc2-97d2-946674120822",
   "metadata": {},
   "outputs": [
    {
     "data": {
      "text/plain": [
       "Index([  3,   4,   5,   7,   8,   9,  10,  11,  12,  13,\n",
       "       ...\n",
       "       191, 192, 193, 194, 195, 196, 197, 198, 199, 200],\n",
       "      dtype='int64', length=194)"
      ]
     },
     "execution_count": 19,
     "metadata": {},
     "output_type": "execute_result"
    }
   ],
   "source": [
    "# Display all of the rows in the DataFrame.\n",
    "df.index"
   ]
  },
  {
   "cell_type": "code",
   "execution_count": 22,
   "id": "c8099333-2b99-45bf-8c03-0ec3906a7d4e",
   "metadata": {},
   "outputs": [],
   "source": [
    "# df[] = df['Gross national income (GNI) per capita'].apply(lambda x: f\"{x:,.2f}\")"
   ]
  },
  {
   "cell_type": "code",
   "execution_count": 12,
   "id": "2fb4b370-3103-4824-aed4-dc92b4169732",
   "metadata": {},
   "outputs": [
    {
     "data": {
      "text/plain": [
       "Index(['Table 1. Human Development Index and its components '], dtype='object')"
      ]
     },
     "execution_count": 12,
     "metadata": {},
     "output_type": "execute_result"
    }
   ],
   "source": [
    "df.columns[[0]]"
   ]
  },
  {
   "cell_type": "markdown",
   "id": "d37dbb82-3bb6-45e2-b633-e70edfbbd7a5",
   "metadata": {},
   "source": [
    "Extract the value in the first row and second column."
   ]
  },
  {
   "cell_type": "code",
   "execution_count": 21,
   "id": "3ff79c9f-70cb-4666-b986-0ad83b14c641",
   "metadata": {},
   "outputs": [
    {
     "data": {
      "text/plain": [
       "'Human Development Index (HDI) '"
      ]
     },
     "execution_count": 21,
     "metadata": {},
     "output_type": "execute_result"
    }
   ],
   "source": [
    "# df.iloc[row_index, column_index]\n",
    "df.iloc[0, 1]"
   ]
  },
  {
   "cell_type": "markdown",
   "id": "66323d5b-1f4a-4b60-b2ef-16bbe1545641",
   "metadata": {},
   "source": [
    "Construct a new DataFrame."
   ]
  },
  {
   "cell_type": "code",
   "execution_count": null,
   "id": "db0c8e74-89d0-4dac-8022-4ef85660761c",
   "metadata": {},
   "outputs": [],
   "source": [
    "df = pd.DataFrame(np.array([[1, 2, 3], [4, 5, 6], [7, 8, 9]]),\n",
    "                  columns=[df.iloc[0, 1], df.iloc[0, 2], df.iloc[0, 3], df.iloc[0, 4], df.iloc[0, 5]])"
   ]
  },
  {
   "cell_type": "code",
   "execution_count": 24,
   "id": "cf275739-75a5-4ee7-98c1-6f9ea414c654",
   "metadata": {},
   "outputs": [
    {
     "data": {
      "text/html": [
       "<div>\n",
       "<style scoped>\n",
       "    .dataframe tbody tr th:only-of-type {\n",
       "        vertical-align: middle;\n",
       "    }\n",
       "\n",
       "    .dataframe tbody tr th {\n",
       "        vertical-align: top;\n",
       "    }\n",
       "\n",
       "    .dataframe thead th {\n",
       "        text-align: right;\n",
       "    }\n",
       "</style>\n",
       "<table border=\"1\" class=\"dataframe\">\n",
       "  <thead>\n",
       "    <tr style=\"text-align: right;\">\n",
       "      <th></th>\n",
       "      <th>col1</th>\n",
       "    </tr>\n",
       "  </thead>\n",
       "  <tbody>\n",
       "    <tr>\n",
       "      <th>0</th>\n",
       "      <td>0</td>\n",
       "    </tr>\n",
       "    <tr>\n",
       "      <th>1</th>\n",
       "      <td>1</td>\n",
       "    </tr>\n",
       "    <tr>\n",
       "      <th>2</th>\n",
       "      <td>2</td>\n",
       "    </tr>\n",
       "    <tr>\n",
       "      <th>3</th>\n",
       "      <td>3</td>\n",
       "    </tr>\n",
       "  </tbody>\n",
       "</table>\n",
       "</div>"
      ],
      "text/plain": [
       "   col1\n",
       "0     0\n",
       "1     1\n",
       "2     2\n",
       "3     3"
      ]
     },
     "execution_count": 24,
     "metadata": {},
     "output_type": "execute_result"
    }
   ],
   "source": [
    "# Dictionary\n",
    "data_set = {df.iloc[0, 1]: df[]}\n",
    "\n",
    "pd.DataFrame(data=data_set, index=[0, 1, 2, 3])"
   ]
  },
  {
   "cell_type": "code",
   "execution_count": null,
   "id": "c3957cc2-72b9-483f-8cae-526c0ef10e25",
   "metadata": {},
   "outputs": [],
   "source": []
  }
 ],
 "metadata": {
  "kernelspec": {
   "display_name": "Python 3 (ipykernel)",
   "language": "python",
   "name": "python3"
  },
  "language_info": {
   "codemirror_mode": {
    "name": "ipython",
    "version": 3
   },
   "file_extension": ".py",
   "mimetype": "text/x-python",
   "name": "python",
   "nbconvert_exporter": "python",
   "pygments_lexer": "ipython3",
   "version": "3.11.5"
  }
 },
 "nbformat": 4,
 "nbformat_minor": 5
}
