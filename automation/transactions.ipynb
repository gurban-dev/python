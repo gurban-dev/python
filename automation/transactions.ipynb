{
 "cells": [
  {
   "cell_type": "code",
   "execution_count": 22,
   "id": "48c37695-4c93-4592-838d-6a2fa74c299c",
   "metadata": {},
   "outputs": [],
   "source": [
    "'''\n",
    "Assume the following is in an excel spreadsheet:\n",
    "\n",
    "1              A            B       C         D\n",
    "\n",
    "2 transaction_id   product_id   price\n",
    "\n",
    "3           1001            1   $5.95   =C2*0.9\n",
    "\n",
    "4           1002            2   $6.95\n",
    "\n",
    "5           1003            3   $7.95\n",
    "\n",
    "Updating hundreds or thousands of excel spreadsheets can be\n",
    "done much more quickly with Python automation.\n",
    "\n",
    "Suppose the price needed to be reduced by ten percent.\n",
    "Scrolling through all of the rows to apply a formula\n",
    "to adjust the price would take a lot of time.\n",
    "This process can be automated.\n",
    "\n",
    "What if you wanted to open hundreds or thousands of excel\n",
    "spreadsheets and add a chart to each one, this would take\n",
    "a week or two. With Python automation, this process can be\n",
    "completed in a matter of seconds.\n",
    "\n",
    "Define a function, so that we can automate the\n",
    "process of updating thousands of spreadsheets.\n",
    "'''\n",
    "\n",
    "'''\n",
    "Install the openpyxl package with pip:\n",
    "pip install openpyxl\n",
    "\n",
    "An asterisk ( * ) to the left of a cell indicates that the\n",
    "cell is still running and hasn't finished completion yet.\n",
    "'''\n",
    "\n",
    "# Instead of typing \"openpyxl.\", we can type \"xl.\".\n",
    "\n",
    "# \"xl\" is an alias for the \"openpyxl\" package.\n",
    "import openpyxl as xl\n",
    "\n",
    "'''\n",
    "From the \"openpyxl\" package, we have a module called\n",
    "\"chart\", and from this module, two classes are being\n",
    "imported: \"BarChart\" and \"Reference\".\n",
    "'''\n",
    "from openpyxl.chart import BarChart, Reference\n",
    "\n",
    "def process_workbook(filename):\n",
    "    # The openpyxl.load_workbook() function takes in the filename\n",
    "    # and returns a value of the workbook data type.\n",
    "\n",
    "    # The variable \"wb\" is of the workbook data type.\n",
    "    wb = xl.load_workbook(filename)\n",
    "\n",
    "    '''\n",
    "    If the transactions.xlsx excel spreadsheet were to be\n",
    "    opened, it would become apparent that there is only\n",
    "    \"Sheet1\" in the bottom left corner.\n",
    "    \n",
    "    \"sheet1\" is a Worksheet object.\n",
    "    '''\n",
    "    sheet1 = wb['Sheet1']\n",
    "\n",
    "    # Accesses the coordinate 'A1' where \"A\" is\n",
    "    # the column name and \"1\" is the row number.\n",
    "    # cell = sheet1['a1']\n",
    "    \n",
    "    # print('\\ncell:', cell)\n",
    "    \n",
    "    # sheet.cell(row, column) accesses row 1\n",
    "    # and column 1 in the excel spreadsheet.\n",
    "    # cell = sheet1.cell(1, 1)\n",
    "    \n",
    "    # print('\\ncell.value:', cell.value)\n",
    "    \n",
    "    # Find the maximum amount of rows there are in the\n",
    "    # excel spreadsheet.\n",
    "    # print('sheet1.max_row:', sheet1.max_row)\n",
    "    \n",
    "    # This program must access rows 2, 3, and 4 in\n",
    "    # the transactions.xlsx excel spreadsheet.\n",
    "    \n",
    "    # The range() function will generate values starting from 2\n",
    "    # all the way up to, but not including sheet.max_row + 1.\n",
    "    \n",
    "    # Generate a range of values from 2 to 5, but not including 5.\n",
    "    # for i in range(2, 5):\n",
    "        # i = 2\n",
    "        # i = 3\n",
    "        # i = 4\n",
    "    \n",
    "    for row in range(2, sheet1.max_row + 1):\n",
    "        # First iteration:\n",
    "        # row = 2\n",
    "        cell = sheet1.cell(row, 3)\n",
    "                \n",
    "        print(f'\\nrow: {row}, cell.value: {cell.value}')\n",
    "        \n",
    "        # Reduce the price in the third column by ten percent.\n",
    "        corrected_price = cell.value * 0.9\n",
    "        \n",
    "        # Get a reference to the fourth column in every row\n",
    "        # by invoking cell(row, 4) on the \"sheet\" object.\n",
    "        \n",
    "        # First iteration:\n",
    "        # row = 2\n",
    "        corrected_price_cell = sheet1.cell(row, 4)\n",
    "        \n",
    "        # Add the corrected price to the newly added fourth\n",
    "        # column by invoking the \"value\" property.\n",
    "        \n",
    "        # '$' mustn't be prepended or inserted before the value\n",
    "        # of the \"corrected_price_formatted\" variable because then\n",
    "        # the excel spreadsheet will think a string rather than a\n",
    "        # floating-point number is being inserted.\n",
    "        corrected_price_formatted = format(corrected_price, '.2f')\n",
    "        \n",
    "        # Cast the string returned by format() to a floating-point number.\n",
    "        # The corrected price is being added to the column D in the excel\n",
    "        # spreadsheet with the \"value\" property invoked.\n",
    "        corrected_price_cell.value = float(corrected_price_formatted)\n",
    "\n",
    "    '''\n",
    "    Add a chart to the transaction.xlsx excel spreadsheet.\n",
    "    \n",
    "    The chart needs to obtain values.\n",
    "    \n",
    "    Use the \"Reference\" class to select a range of values\n",
    "    from the excel sheet (rows 2-4 in this case).\n",
    "    \n",
    "    Create an instance of the \"Reference\" class\n",
    "    and store a variable in it called \"values\".\n",
    "    \n",
    "    Select the cells in rows 2, 3, and 4 in column 4 or D.\n",
    "    \n",
    "    The \"values\" variable will be assigned the values from\n",
    "    the fourth column.\n",
    "\n",
    "    Documentation for openpyxl.chart.reference.Reference:\n",
    "\n",
    "    https://openpyxl.readthedocs.io/en/3.1/api/openpyxl.chart.reference.html\n",
    "    '''\n",
    "    values = Reference(sheet1,\n",
    "    min_row=2,\n",
    "    max_row=sheet1.max_row,\n",
    "    min_col=4,\n",
    "    max_col=4\n",
    "    )\n",
    "    \n",
    "    print(f'\\nvalues: {values}')\n",
    "    \n",
    "    print(f'\\ntype(values): {type(values)}')\n",
    "    \n",
    "    '''\n",
    "    Create an instance of the \"BarChart\" class\n",
    "    and store it in a variable called \"chart\".\n",
    "    \n",
    "    BarChart is a class and in the subsequent line an instance\n",
    "    or object of the BarChart class is being created.\n",
    "    '''\n",
    "    chart = BarChart()\n",
    "    \n",
    "    # Add the data from the fourth column to the \"chart\"\n",
    "    # instance.\n",
    "    chart.add_data(values)\n",
    "    \n",
    "    # Add the instance \"chart\" to the excel spreadsheet\n",
    "    # in coordinate 'e2' or column E row 2.\n",
    "    sheet1.add_chart(chart, 'e2')\n",
    "    \n",
    "    # Save the excel spreadsheet.\n",
    "    wb.save(filename)\n",
    "\n",
    "# If you are not sure whether your program has any bugs,\n",
    "# save the work in another file to avoid overwriting the\n",
    "# original excel spreadsheet.\n",
    "\n",
    "# The process_workbook() function has the competency to\n",
    "# process hundreds or thousands of spreadsheets.\n",
    "\n",
    "# With this program, the name of each file in a directory\n",
    "# can be obtained and passed to the process_workbook()\n",
    "# function. The process_workbook() function will update\n",
    "# each spreadsheet in just a second or less."
   ]
  },
  {
   "cell_type": "markdown",
   "id": "1ec800ab-b6e7-4adf-b4cc-b3b1e71ce632",
   "metadata": {},
   "source": [
    "Be sure to use a .ipynb file rather than a .py for running this program in Jupyter notebook.\n",
    "\n",
    "If you use a .py file, 'transactions.xlsx' will not be found."
   ]
  },
  {
   "cell_type": "code",
   "execution_count": 97,
   "id": "a42f7a6a-e070-41cc-843a-d7150d6909b0",
   "metadata": {},
   "outputs": [
    {
     "name": "stdout",
     "output_type": "stream",
     "text": [
      "\n",
      "row: 2, cell.value: 5.95\n",
      "\n",
      "row: 3, cell.value: 6.95\n",
      "\n",
      "row: 4, cell.value: 7.95\n",
      "\n",
      "values: 'Sheet1'!$D$2:$D$4\n",
      "\n",
      "type(values): <class 'openpyxl.chart.reference.Reference'>\n"
     ]
    }
   ],
   "source": [
    "process_workbook('transactions.xlsx')"
   ]
  },
  {
   "cell_type": "markdown",
   "id": "4ca0c1b3-9831-4fd8-9229-a5d03f842f00",
   "metadata": {},
   "source": [
    "./ stands for current directory and Transaction1 and Transaction2 are <br>\n",
    "both directories containing an excel spreadsheet named transactions.xlsx.\n",
    "\n",
    "To access a folder located one directory level above:<br>\n",
    "./../folder_name"
   ]
  },
  {
   "cell_type": "markdown",
   "id": "06e489c9-5036-4fd3-aa34-743e1ce8d922",
   "metadata": {},
   "source": [
    "./Transaction1/transactions.xlsx"
   ]
  },
  {
   "cell_type": "markdown",
   "id": "5b3e5cee-5978-45fc-8607-bb98b6736106",
   "metadata": {},
   "source": [
    "./Transaction2/transactions.xlsx"
   ]
  },
  {
   "cell_type": "markdown",
   "id": "0ed0db95-a913-47ce-87aa-da42b21d20f4",
   "metadata": {},
   "source": [
    "./transactions.xlsx or transactions.xlsx"
   ]
  },
  {
   "cell_type": "code",
   "execution_count": 26,
   "id": "47e0914e-857b-4750-8473-365de40a8441",
   "metadata": {},
   "outputs": [
    {
     "name": "stdin",
     "output_type": "stream",
     "text": [
      "Enter the name of the excel spreadsheet: ./Transaction2/transactions.xlsx\n"
     ]
    }
   ],
   "source": [
    "file_name = input('Enter the name of the excel spreadsheet:')"
   ]
  },
  {
   "cell_type": "markdown",
   "id": "4792ac39-daea-4b51-a0c7-f5683c28ff8e",
   "metadata": {},
   "source": [
    "Extract the last five characters of \"filename\" with string slicing."
   ]
  },
  {
   "cell_type": "code",
   "execution_count": 17,
   "id": "76a7b480-2017-4fab-9cd8-4567be64b8a0",
   "metadata": {},
   "outputs": [
    {
     "data": {
      "text/plain": [
       "'.xlsx'"
      ]
     },
     "execution_count": 17,
     "metadata": {},
     "output_type": "execute_result"
    }
   ],
   "source": [
    "file_name[-5:]"
   ]
  },
  {
   "cell_type": "markdown",
   "id": "d9afa228-51ac-45c6-abe6-6263d024842d",
   "metadata": {},
   "source": [
    "Validate the user input."
   ]
  },
  {
   "cell_type": "code",
   "execution_count": 18,
   "id": "3f6a4975-c66c-4ffe-9558-b478ff1c71aa",
   "metadata": {},
   "outputs": [],
   "source": [
    "# Check whether the last five characters\n",
    "# of \"filename\" is equal to '.xlsx'.\n",
    "if filename[-5:] != '.xlsx':\n",
    "    # String concatenation\n",
    "    filename += '.xlsx'"
   ]
  },
  {
   "cell_type": "code",
   "execution_count": 27,
   "id": "d01e9a90-44b5-48cc-a4f0-6e98014b29b7",
   "metadata": {},
   "outputs": [
    {
     "data": {
      "text/plain": [
       "'./Transaction2/transactions.xlsx'"
      ]
     },
     "execution_count": 27,
     "metadata": {},
     "output_type": "execute_result"
    }
   ],
   "source": [
    "file_name"
   ]
  },
  {
   "cell_type": "code",
   "execution_count": 28,
   "id": "68c17f77-46e7-4168-934d-d07207fcdf49",
   "metadata": {},
   "outputs": [
    {
     "name": "stdout",
     "output_type": "stream",
     "text": [
      "\n",
      "row: 2, cell.value: 5.3\n",
      "\n",
      "row: 3, cell.value: 6.45\n",
      "\n",
      "row: 4, cell.value: 7.25\n",
      "\n",
      "values: 'Sheet1'!$D$2:$D$4\n",
      "\n",
      "type(values): <class 'openpyxl.chart.reference.Reference'>\n"
     ]
    }
   ],
   "source": [
    "process_workbook(file_name)"
   ]
  }
 ],
 "metadata": {
  "kernelspec": {
   "display_name": "Python 3 (ipykernel)",
   "language": "python",
   "name": "python3"
  },
  "language_info": {
   "codemirror_mode": {
    "name": "ipython",
    "version": 3
   },
   "file_extension": ".py",
   "mimetype": "text/x-python",
   "name": "python",
   "nbconvert_exporter": "python",
   "pygments_lexer": "ipython3",
   "version": "3.11.5"
  }
 },
 "nbformat": 4,
 "nbformat_minor": 5
}
