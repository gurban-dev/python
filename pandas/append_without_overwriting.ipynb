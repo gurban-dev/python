{
 "cells": [
  {
   "cell_type": "code",
   "execution_count": 3,
   "id": "6fdee2de-5718-485a-bd32-741c0f411ac4",
   "metadata": {},
   "outputs": [],
   "source": [
    "import pandas as pd"
   ]
  },
  {
   "cell_type": "code",
   "execution_count": 4,
   "id": "a1ebe3c4-48d4-4561-8d05-384fd71a61b2",
   "metadata": {},
   "outputs": [],
   "source": [
    "import os"
   ]
  },
  {
   "cell_type": "code",
   "execution_count": 5,
   "id": "c84d5c7f-a59e-4a3e-9757-8924b8bff000",
   "metadata": {},
   "outputs": [],
   "source": [
    "def create_or_append_to_excel_file(file_path, sheet_name, data):\n",
    "    df = pd.DataFrame(data)\n",
    "    \n",
    "    if os.path.exists(file_path):\n",
    "        # If the file exists, append data.\n",
    "        with pd.ExcelWriter(file_path, mode=\"a\", if_sheet_exists=\"overlay\", engine=\"openpyxl\") as writer:\n",
    "            if sheet_name in writer.book.sheetnames:\n",
    "                start_row = writer.book[sheet_name].max_row\n",
    "                df.to_excel(writer, sheet_name=sheet_name, startrow=start_row, header=False, index=False)\n",
    "            else:\n",
    "                df.to_excel(writer, sheet_name=sheet_name, index=False)\n",
    "    else:\n",
    "        # If the file does not exist, create a new workbook\n",
    "        with pd.ExcelWriter(file_path, engine=\"openpyxl\") as writer:\n",
    "            df.to_excel(writer, sheet_name=sheet_name, index=False)"
   ]
  },
  {
   "cell_type": "code",
   "execution_count": 6,
   "id": "8d498ac9-9c9a-4b18-975d-bf196da65b90",
   "metadata": {
    "scrolled": true
   },
   "outputs": [],
   "source": [
    "data1 = [\n",
    "    [\"Country/Region\", \"Continent\", \"HDI\"],\n",
    "    [\"Switzerland\", 'Europe', 0.967],\n",
    "    [\"Norway\", 'Europe', 0.966],\n",
    "    [\"Iceland\", 'Europe', 0.959]\n",
    "]\n",
    "\n",
    "create_or_append_to_excel_file(file_path='./output.xlsx', sheet_name='Sheet1', data=data1)"
   ]
  },
  {
   "cell_type": "code",
   "execution_count": 18,
   "id": "798c1e59-b82c-4495-9963-261ebdf865a2",
   "metadata": {},
   "outputs": [],
   "source": [
    "data2 = [\n",
    "    [\"Hong Kong\", 'Asia', 0.956],\n",
    "    [\"Denmark\", 'Europe', 0.952],\n",
    "    [\"Sweden\", 'Europe', 0.952]\n",
    "]\n",
    "\n",
    "create_or_append_to_excel_file(file_path='./output.xlsx', sheet_name='Sheet1', data=data2)"
   ]
  }
 ],
 "metadata": {
  "kernelspec": {
   "display_name": "Python 3 (ipykernel)",
   "language": "python",
   "name": "python3"
  },
  "language_info": {
   "codemirror_mode": {
    "name": "ipython",
    "version": 3
   },
   "file_extension": ".py",
   "mimetype": "text/x-python",
   "name": "python",
   "nbconvert_exporter": "python",
   "pygments_lexer": "ipython3",
   "version": "3.11.5"
  }
 },
 "nbformat": 4,
 "nbformat_minor": 5
}
