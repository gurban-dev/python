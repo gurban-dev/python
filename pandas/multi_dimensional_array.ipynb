{
 "cells": [
  {
   "cell_type": "code",
   "execution_count": 1,
   "id": "da6fba11-6c10-4c1a-9ee9-63e5a1389d15",
   "metadata": {},
   "outputs": [],
   "source": [
    "# \"np\" is an alias for the \"numpy\" library.\n",
    "import numpy as np"
   ]
  },
  {
   "cell_type": "markdown",
   "id": "fbcfd6ed-2c4e-49b6-b01a-d313c3b344dd",
   "metadata": {},
   "source": [
    "One-dimensional arrays can be generated with the numpy library."
   ]
  },
  {
   "cell_type": "code",
   "execution_count": 7,
   "id": "6cba5109-e53a-4d07-9004-1436aa6d6a86",
   "metadata": {},
   "outputs": [],
   "source": [
    "# Invoke the array() method on \"np\".\n",
    "one_dimensional_arr = np.array([1, 2, 3, 4, 5, 6])"
   ]
  },
  {
   "cell_type": "code",
   "execution_count": 8,
   "id": "e7d4687e-9041-487b-9287-22373ce81e2f",
   "metadata": {},
   "outputs": [
    {
     "data": {
      "text/plain": [
       "array([1, 2, 3, 4, 5, 6])"
      ]
     },
     "execution_count": 8,
     "metadata": {},
     "output_type": "execute_result"
    }
   ],
   "source": [
    "# Output the one-dimensional array.\n",
    "one_dimensional_arr"
   ]
  },
  {
   "cell_type": "markdown",
   "id": "e13005a6-a9e9-48b2-b947-6a3b18a66614",
   "metadata": {},
   "source": [
    "Two-dimensional arrays can likewise be generated with the numpy library."
   ]
  },
  {
   "cell_type": "code",
   "execution_count": 9,
   "id": "f90e2910-7025-45df-ae1f-b43ef1e419b7",
   "metadata": {},
   "outputs": [],
   "source": [
    "# (2, 3) passed as the second argument to reshape() specifies\n",
    "# that the two-dimensional array will consist of two rows and\n",
    "# three columns.\n",
    "two_dimensional_arr = np.reshape(\n",
    "    one_dimensional_arr,\n",
    "    (2,3)\n",
    ")"
   ]
  },
  {
   "cell_type": "code",
   "execution_count": 10,
   "id": "7f36ec92-7192-48a4-9717-e18151ae35c4",
   "metadata": {},
   "outputs": [
    {
     "data": {
      "text/plain": [
       "array([[1, 2, 3],\n",
       "       [4, 5, 6]])"
      ]
     },
     "execution_count": 10,
     "metadata": {},
     "output_type": "execute_result"
    }
   ],
   "source": [
    "# Output the two-dimensional array.\n",
    "two_dimensional_arr"
   ]
  },
  {
   "cell_type": "code",
   "execution_count": null,
   "id": "2c3e657c-67b5-4b2d-b597-48395de3a32b",
   "metadata": {},
   "outputs": [],
   "source": []
  }
 ],
 "metadata": {
  "kernelspec": {
   "display_name": "Python 3 (ipykernel)",
   "language": "python",
   "name": "python3"
  },
  "language_info": {
   "codemirror_mode": {
    "name": "ipython",
    "version": 3
   },
   "file_extension": ".py",
   "mimetype": "text/x-python",
   "name": "python",
   "nbconvert_exporter": "python",
   "pygments_lexer": "ipython3",
   "version": "3.11.5"
  }
 },
 "nbformat": 4,
 "nbformat_minor": 5
}
