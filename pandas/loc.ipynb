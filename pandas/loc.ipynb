{
 "cells": [
  {
   "cell_type": "markdown",
   "id": "6c1cbeaf-e213-4439-9847-ce0b0a2b684b",
   "metadata": {},
   "source": [
    "The pandas.DataFrame.loc property makes it possible to access <br>\n",
    "a group of rows and columns by label(s) or a boolean array."
   ]
  },
  {
   "cell_type": "markdown",
   "id": "1a94b62a-0858-4bf0-8093-f756005ec0e8",
   "metadata": {},
   "source": [
    "Accessing a single value."
   ]
  },
  {
   "cell_type": "code",
   "execution_count": null,
   "id": "bf5f3642-95ef-4ade-82f3-f5d5293b45d6",
   "metadata": {},
   "outputs": [],
   "source": [
    "df.loc[row_label, column_label]"
   ]
  },
  {
   "cell_type": "markdown",
   "id": "defaffd0-5a09-4526-ac1c-330fe14a4dc3",
   "metadata": {},
   "source": [
    "Accessing a row."
   ]
  },
  {
   "cell_type": "code",
   "execution_count": null,
   "id": "89634767-0f55-4ba8-8fec-058bbe81b5c2",
   "metadata": {},
   "outputs": [],
   "source": [
    "df.loc[row_label]"
   ]
  },
  {
   "cell_type": "markdown",
   "id": "0c351535-7be5-4a3c-b807-959ebf0d1f51",
   "metadata": {},
   "source": [
    "Accessing multiple rows."
   ]
  },
  {
   "cell_type": "code",
   "execution_count": 1,
   "id": "3c9e5f29-2bc9-44d0-a410-cf9ca53ae679",
   "metadata": {},
   "outputs": [
    {
     "ename": "NameError",
     "evalue": "name 'df' is not defined",
     "output_type": "error",
     "traceback": [
      "\u001b[0;31m---------------------------------------------------------------------------\u001b[0m",
      "\u001b[0;31mNameError\u001b[0m                                 Traceback (most recent call last)",
      "Cell \u001b[0;32mIn[1], line 1\u001b[0m\n\u001b[0;32m----> 1\u001b[0m \u001b[43mdf\u001b[49m\u001b[38;5;241m.\u001b[39mloc[[row_label1, row_label2]]\n",
      "\u001b[0;31mNameError\u001b[0m: name 'df' is not defined"
     ]
    }
   ],
   "source": [
    "df.loc[[row_label1, row_label2]]"
   ]
  },
  {
   "cell_type": "markdown",
   "id": "38c63894-9571-44bd-9a61-5a4356c8ef2a",
   "metadata": {},
   "source": [
    "Accessing a column."
   ]
  },
  {
   "cell_type": "code",
   "execution_count": 2,
   "id": "fddfa678-e069-412c-b883-bc5568851924",
   "metadata": {},
   "outputs": [
    {
     "ename": "NameError",
     "evalue": "name 'df' is not defined",
     "output_type": "error",
     "traceback": [
      "\u001b[0;31m---------------------------------------------------------------------------\u001b[0m",
      "\u001b[0;31mNameError\u001b[0m                                 Traceback (most recent call last)",
      "Cell \u001b[0;32mIn[2], line 1\u001b[0m\n\u001b[0;32m----> 1\u001b[0m \u001b[43mdf\u001b[49m\u001b[38;5;241m.\u001b[39mloc[:, column_label]\n",
      "\u001b[0;31mNameError\u001b[0m: name 'df' is not defined"
     ]
    }
   ],
   "source": [
    "df.loc[:, column_label]"
   ]
  },
  {
   "cell_type": "markdown",
   "id": "51d7061c-cd8b-4521-a6fc-6723408d21b8",
   "metadata": {},
   "source": [
    "Accessing multiple columns."
   ]
  },
  {
   "cell_type": "code",
   "execution_count": null,
   "id": "a0e882e5-2314-4ae8-843a-26e1ba2474aa",
   "metadata": {},
   "outputs": [],
   "source": [
    "df.loc[:, [column_label1, column_label2]]"
   ]
  },
  {
   "cell_type": "markdown",
   "id": "9962ea3f-237c-4cdf-847c-1fa51807fa28",
   "metadata": {},
   "source": [
    "Slicing Rows"
   ]
  },
  {
   "cell_type": "code",
   "execution_count": null,
   "id": "db022b77-760e-49cd-8ea4-732b1d0c31e4",
   "metadata": {},
   "outputs": [],
   "source": [
    "df.loc[row_label1:row_label2]"
   ]
  },
  {
   "cell_type": "markdown",
   "id": "08322241-2281-43d7-b99b-7adffcf0e18f",
   "metadata": {},
   "source": [
    "Using a boolean array."
   ]
  },
  {
   "cell_type": "code",
   "execution_count": null,
   "id": "44ae0f24-01ac-47f0-9c40-3072704f6d35",
   "metadata": {},
   "outputs": [],
   "source": [
    "df.loc[df['column_name'] > 10]"
   ]
  }
 ],
 "metadata": {
  "kernelspec": {
   "display_name": "Python 3 (ipykernel)",
   "language": "python",
   "name": "python3"
  },
  "language_info": {
   "codemirror_mode": {
    "name": "ipython",
    "version": 3
   },
   "file_extension": ".py",
   "mimetype": "text/x-python",
   "name": "python",
   "nbconvert_exporter": "python",
   "pygments_lexer": "ipython3",
   "version": "3.11.5"
  }
 },
 "nbformat": 4,
 "nbformat_minor": 5
}
