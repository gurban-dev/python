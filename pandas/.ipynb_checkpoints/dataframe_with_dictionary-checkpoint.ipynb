{
 "cells": [
  {
   "cell_type": "code",
   "execution_count": 1,
   "id": "feed4f15-b25d-4986-b8ba-d3a3a51651cd",
   "metadata": {},
   "outputs": [],
   "source": [
    "import pandas as pd"
   ]
  },
  {
   "cell_type": "code",
   "execution_count": 2,
   "id": "1221f323-b68b-44b9-a1da-cf8b3153876d",
   "metadata": {},
   "outputs": [],
   "source": [
    "AOMTwithMarketDataSummaryFinal = pd.DataFrame(\n",
    "  # {'column_name': ['column_value']}\n",
    "  {'dwh_business_date_short': ['dwh_business_date_short']}\n",
    ")"
   ]
  },
  {
   "cell_type": "code",
   "execution_count": 3,
   "id": "c4f11f4e-1c16-4b20-999d-5ed0548a5f13",
   "metadata": {},
   "outputs": [
    {
     "data": {
      "text/html": [
       "<div>\n",
       "<style scoped>\n",
       "    .dataframe tbody tr th:only-of-type {\n",
       "        vertical-align: middle;\n",
       "    }\n",
       "\n",
       "    .dataframe tbody tr th {\n",
       "        vertical-align: top;\n",
       "    }\n",
       "\n",
       "    .dataframe thead th {\n",
       "        text-align: right;\n",
       "    }\n",
       "</style>\n",
       "<table border=\"1\" class=\"dataframe\">\n",
       "  <thead>\n",
       "    <tr style=\"text-align: right;\">\n",
       "      <th></th>\n",
       "      <th>dwh_business_date_short</th>\n",
       "    </tr>\n",
       "  </thead>\n",
       "  <tbody>\n",
       "    <tr>\n",
       "      <th>0</th>\n",
       "      <td>dwh_business_date_short</td>\n",
       "    </tr>\n",
       "  </tbody>\n",
       "</table>\n",
       "</div>"
      ],
      "text/plain": [
       "   dwh_business_date_short\n",
       "0  dwh_business_date_short"
      ]
     },
     "execution_count": 3,
     "metadata": {},
     "output_type": "execute_result"
    }
   ],
   "source": [
    "AOMTwithMarketDataSummaryFinal"
   ]
  },
  {
   "cell_type": "markdown",
   "id": "686f2788-5250-4aa2-b60a-90832e479c7f",
   "metadata": {},
   "source": [
    "The DataFrame can be outputted with a print() statement, but it\n",
    "\n",
    "is not as readable/visually appealing as invoking the name of the\n",
    "\n",
    "DataFrame object."
   ]
  },
  {
   "cell_type": "code",
   "execution_count": 4,
   "id": "5fbd62df-ba77-451e-9bbe-172bdbb019ad",
   "metadata": {},
   "outputs": [
    {
     "name": "stdout",
     "output_type": "stream",
     "text": [
      "   dwh_business_date_short\n",
      "0  dwh_business_date_short\n"
     ]
    }
   ],
   "source": [
    "print(AOMTwithMarketDataSummaryFinal)"
   ]
  }
 ],
 "metadata": {
  "kernelspec": {
   "display_name": "Python 3 (ipykernel)",
   "language": "python",
   "name": "python3"
  },
  "language_info": {
   "codemirror_mode": {
    "name": "ipython",
    "version": 3
   },
   "file_extension": ".py",
   "mimetype": "text/x-python",
   "name": "python",
   "nbconvert_exporter": "python",
   "pygments_lexer": "ipython3",
   "version": "3.11.5"
  }
 },
 "nbformat": 4,
 "nbformat_minor": 5
}
