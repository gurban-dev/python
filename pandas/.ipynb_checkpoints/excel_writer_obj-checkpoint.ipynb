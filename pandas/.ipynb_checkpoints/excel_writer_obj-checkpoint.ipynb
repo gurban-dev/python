{
 "cells": [
  {
   "cell_type": "code",
   "execution_count": 27,
   "id": "59d3b576-73df-4f9a-b378-7bff21ed857b",
   "metadata": {},
   "outputs": [],
   "source": [
    "import pandas as pd"
   ]
  },
  {
   "cell_type": "code",
   "execution_count": 28,
   "id": "f0b1010e-97b7-4273-bd18-edcbc6e28587",
   "metadata": {},
   "outputs": [],
   "source": [
    "# If the file passed as the first argument to ExcelWriter()\n",
    "# doesn't exist, the program will generate it.\n",
    "writer_obj = pd.ExcelWriter('./file_to_write_to.xlsx', engine=\"xlsxwriter\")"
   ]
  },
  {
   "cell_type": "code",
   "execution_count": 29,
   "id": "0e8ee45a-6779-48bb-aac6-b000c8c6d547",
   "metadata": {},
   "outputs": [],
   "source": [
    "# Commenting out the numerical/quantitative data and passing\n",
    "# the natural language/qualitative data will overwrite the\n",
    "# original that was in the Excel file.\n",
    "\n",
    "# Numerical/Quantitative data\n",
    "# data = {'col1': [1, 2], 'col2': [3, 4]}\n",
    "\n",
    "# Natural language/Qualitative data\n",
    "data = {'col1': ['A', 'B'], 'col2': ['C', 'D']}"
   ]
  },
  {
   "cell_type": "code",
   "execution_count": 30,
   "id": "18f9e430-b246-4195-98c0-4d8eacd44ade",
   "metadata": {},
   "outputs": [],
   "source": [
    "df = pd.DataFrame(data=data)"
   ]
  },
  {
   "cell_type": "code",
   "execution_count": 31,
   "id": "e8964eb7-9779-4090-ac9d-24df23f43726",
   "metadata": {},
   "outputs": [],
   "source": [
    "df.to_excel(writer_obj, sheet_name=\"Sheet1\", index=False)"
   ]
  },
  {
   "cell_type": "markdown",
   "id": "86954927-3f5d-4382-a33a-301879ce288a",
   "metadata": {},
   "source": [
    "None of the data will become visible in the\n",
    "Excel file until the writer object is closed.\n",
    "\n",
    "The writer object doesn't close the Excel file.\n",
    "\n",
    "ExcelWriter() opens a file handle to write data to an Excel file.\n",
    "\n",
    "If this handle is not closed, the file remains locked, which can\n",
    "\n",
    "prevent other processes from accessing or modifying the file.\n",
    "\n",
    "A file handle is a unique reference assigned by an operating system\n",
    "to an open file and interact with it. It is represented as an integer\n",
    "value."
   ]
  },
  {
   "cell_type": "code",
   "execution_count": 32,
   "id": "ad2e687c-8bc1-4b35-973e-f13133a5bf92",
   "metadata": {},
   "outputs": [],
   "source": [
    "writer_obj.close()"
   ]
  },
  {
   "cell_type": "code",
   "execution_count": null,
   "id": "39fd29e6-1a73-4983-b4d2-863cf10c9c06",
   "metadata": {},
   "outputs": [],
   "source": []
  }
 ],
 "metadata": {
  "kernelspec": {
   "display_name": "Python 3 (ipykernel)",
   "language": "python",
   "name": "python3"
  },
  "language_info": {
   "codemirror_mode": {
    "name": "ipython",
    "version": 3
   },
   "file_extension": ".py",
   "mimetype": "text/x-python",
   "name": "python",
   "nbconvert_exporter": "python",
   "pygments_lexer": "ipython3",
   "version": "3.11.5"
  }
 },
 "nbformat": 4,
 "nbformat_minor": 5
}
