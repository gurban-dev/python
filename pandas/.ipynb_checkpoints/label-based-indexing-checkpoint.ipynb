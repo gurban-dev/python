{
 "cells": [
  {
   "cell_type": "code",
   "execution_count": 5,
   "id": "eb9e0a62-083f-41d6-a6a8-a69106c6905d",
   "metadata": {},
   "outputs": [
    {
     "name": "stdout",
     "output_type": "stream",
     "text": [
      "Index(['First row', 'Second row', 'Third row'], dtype='object')\n",
      "Alice\n",
      "Alice\n",
      "len(df): 3\n",
      "i: 0\n",
      "i: 1\n",
      "i: 2\n"
     ]
    },
    {
     "name": "stderr",
     "output_type": "stream",
     "text": [
      "/tmp/ipykernel_30365/744112302.py:16: FutureWarning: Series.__getitem__ treating keys as positions is deprecated. In a future version, integer keys will always be treated as labels (consistent with DataFrame behavior). To access a value by position, use `ser.iloc[pos]`\n",
      "  print(df['Name'][0])\n"
     ]
    }
   ],
   "source": [
    "import pandas as pd\n",
    "\n",
    "df = pd.DataFrame({'Name': ['Alice', 'Bob', 'Aritra'],\n",
    "                    'Age': [25, 30, 35],\n",
    "                    'Location': ['Seattle', 'New York', 'Kona']})\n",
    "\n",
    "# Commented out just to show that the indexes can be manually set.\n",
    "# df = pd.DataFrame({'Name': ['Alice', 'Bob', 'Aritra'],\n",
    "#                     'Age': [25, 30, 35],\n",
    "#                     'Location': ['Seattle', 'New York', 'Kona']},\n",
    "#                      index=['First row', 'Second row', 'Third row'])\n",
    "\n",
    "# View all of the indexes.\n",
    "print(df.index)\n",
    "\n",
    "# Access row in index zero from the \"Name\" column.\n",
    "# This is called label-based indexing.\n",
    "print(df['Name'][0])\n",
    "\n",
    "# print(df['Name']['First row'])\n",
    "\n",
    "# Output the number of rows in the Dataframe object.\n",
    "print(f'len(df): {len(df)}')\n",
    "\n",
    "for i in range(len(df)):\n",
    "  print(f'i: {i}')"
   ]
  },
  {
   "cell_type": "code",
   "execution_count": null,
   "id": "30219f4f-78d4-4f33-a133-266aab232a3d",
   "metadata": {},
   "outputs": [],
   "source": []
  }
 ],
 "metadata": {
  "kernelspec": {
   "display_name": "Python 3 (ipykernel)",
   "language": "python",
   "name": "python3"
  },
  "language_info": {
   "codemirror_mode": {
    "name": "ipython",
    "version": 3
   },
   "file_extension": ".py",
   "mimetype": "text/x-python",
   "name": "python",
   "nbconvert_exporter": "python",
   "pygments_lexer": "ipython3",
   "version": "3.11.5"
  }
 },
 "nbformat": 4,
 "nbformat_minor": 5
}
