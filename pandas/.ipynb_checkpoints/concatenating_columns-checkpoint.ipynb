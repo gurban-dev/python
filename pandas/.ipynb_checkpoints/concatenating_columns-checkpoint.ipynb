{
 "cells": [
  {
   "cell_type": "code",
   "execution_count": 1,
   "id": "090669be-e6f6-437f-8e54-2f73c2482f32",
   "metadata": {},
   "outputs": [],
   "source": [
    "import pandas as pd"
   ]
  },
  {
   "cell_type": "code",
   "execution_count": 2,
   "id": "6d42f820-c62e-4704-a83c-540a880ad64d",
   "metadata": {},
   "outputs": [],
   "source": [
    "# Create a sample DataFrame\n",
    "data = {\n",
    "    \"Meets 23B Markets Terms\": [True, False, True],\n",
    "    \"Missing Root Order ID\": [False, True, False],\n",
    "    \"uno_alert_id\": [1, 2, 3]\n",
    "}\n",
    "\n",
    "df = pd.DataFrame(data)\n",
    "\n",
    "# Concatenate columns into a new column\n",
    "df[\"concatenated\"] = (\n",
    "    df[\"Meets 23B Markets Terms\"].astype(str)\n",
    "    + df[\"Missing Root Order ID\"].astype(str)\n",
    "    + df[\"uno_alert_id\"].astype(str)\n",
    ")"
   ]
  },
  {
   "cell_type": "code",
   "execution_count": 3,
   "id": "b5f92df5-5a2a-45ee-a514-4b4aa9d670b7",
   "metadata": {},
   "outputs": [
    {
     "data": {
      "text/html": [
       "<div>\n",
       "<style scoped>\n",
       "    .dataframe tbody tr th:only-of-type {\n",
       "        vertical-align: middle;\n",
       "    }\n",
       "\n",
       "    .dataframe tbody tr th {\n",
       "        vertical-align: top;\n",
       "    }\n",
       "\n",
       "    .dataframe thead th {\n",
       "        text-align: right;\n",
       "    }\n",
       "</style>\n",
       "<table border=\"1\" class=\"dataframe\">\n",
       "  <thead>\n",
       "    <tr style=\"text-align: right;\">\n",
       "      <th></th>\n",
       "      <th>Meets 23B Markets Terms</th>\n",
       "      <th>Missing Root Order ID</th>\n",
       "      <th>uno_alert_id</th>\n",
       "      <th>concatenated</th>\n",
       "    </tr>\n",
       "  </thead>\n",
       "  <tbody>\n",
       "    <tr>\n",
       "      <th>0</th>\n",
       "      <td>True</td>\n",
       "      <td>False</td>\n",
       "      <td>1</td>\n",
       "      <td>TrueFalse1</td>\n",
       "    </tr>\n",
       "    <tr>\n",
       "      <th>1</th>\n",
       "      <td>False</td>\n",
       "      <td>True</td>\n",
       "      <td>2</td>\n",
       "      <td>FalseTrue2</td>\n",
       "    </tr>\n",
       "    <tr>\n",
       "      <th>2</th>\n",
       "      <td>True</td>\n",
       "      <td>False</td>\n",
       "      <td>3</td>\n",
       "      <td>TrueFalse3</td>\n",
       "    </tr>\n",
       "  </tbody>\n",
       "</table>\n",
       "</div>"
      ],
      "text/plain": [
       "   Meets 23B Markets Terms  Missing Root Order ID  uno_alert_id concatenated\n",
       "0                     True                  False             1   TrueFalse1\n",
       "1                    False                   True             2   FalseTrue2\n",
       "2                     True                  False             3   TrueFalse3"
      ]
     },
     "execution_count": 3,
     "metadata": {},
     "output_type": "execute_result"
    }
   ],
   "source": [
    "df"
   ]
  },
  {
   "cell_type": "code",
   "execution_count": 7,
   "id": "89f0b7a6-b8e4-422d-9814-fadc18c22675",
   "metadata": {},
   "outputs": [],
   "source": [
    "df_with_only_concatenated = df[\n",
    "    [\n",
    "        'concatenated'\n",
    "    ]\n",
    "]"
   ]
  },
  {
   "cell_type": "code",
   "execution_count": 8,
   "id": "adabc9f5-725e-470b-9aa4-db012181bbe1",
   "metadata": {},
   "outputs": [
    {
     "data": {
      "text/html": [
       "<div>\n",
       "<style scoped>\n",
       "    .dataframe tbody tr th:only-of-type {\n",
       "        vertical-align: middle;\n",
       "    }\n",
       "\n",
       "    .dataframe tbody tr th {\n",
       "        vertical-align: top;\n",
       "    }\n",
       "\n",
       "    .dataframe thead th {\n",
       "        text-align: right;\n",
       "    }\n",
       "</style>\n",
       "<table border=\"1\" class=\"dataframe\">\n",
       "  <thead>\n",
       "    <tr style=\"text-align: right;\">\n",
       "      <th></th>\n",
       "      <th>concatenated</th>\n",
       "    </tr>\n",
       "  </thead>\n",
       "  <tbody>\n",
       "    <tr>\n",
       "      <th>0</th>\n",
       "      <td>TrueFalse1</td>\n",
       "    </tr>\n",
       "    <tr>\n",
       "      <th>1</th>\n",
       "      <td>FalseTrue2</td>\n",
       "    </tr>\n",
       "    <tr>\n",
       "      <th>2</th>\n",
       "      <td>TrueFalse3</td>\n",
       "    </tr>\n",
       "  </tbody>\n",
       "</table>\n",
       "</div>"
      ],
      "text/plain": [
       "  concatenated\n",
       "0   TrueFalse1\n",
       "1   FalseTrue2\n",
       "2   TrueFalse3"
      ]
     },
     "execution_count": 8,
     "metadata": {},
     "output_type": "execute_result"
    }
   ],
   "source": [
    "df_with_only_concatenated"
   ]
  },
  {
   "cell_type": "markdown",
   "id": "60511508-24e4-4972-a7b7-122598ba1671",
   "metadata": {},
   "source": [
    "The memory address of the \"df_with_only_concatenated\" will be\n",
    "\n",
    "different because a value that is different than \"df\" is being\n",
    "\n",
    "assigned.\n",
    "\n",
    "<br>\n",
    "\n",
    "In this case, only the column from DataFrame \"df\" is being assigned rather\n",
    "\n",
    "than \"df\"."
   ]
  },
  {
   "cell_type": "markdown",
   "id": "05dd5f44-84db-468a-a856-724b2b2c5220",
   "metadata": {},
   "source": [
    "Output the memory address of the initial DataFrame."
   ]
  },
  {
   "cell_type": "code",
   "execution_count": 9,
   "id": "97259d4e-1d6a-4529-be17-63eb44613b03",
   "metadata": {},
   "outputs": [
    {
     "data": {
      "text/plain": [
       "140150797155472"
      ]
     },
     "execution_count": 9,
     "metadata": {},
     "output_type": "execute_result"
    }
   ],
   "source": [
    "id(df)"
   ]
  },
  {
   "cell_type": "markdown",
   "id": "b62a3954-a70c-4ad3-b691-19956d9aa28f",
   "metadata": {},
   "source": [
    "Output the memory address of the new DataFrame."
   ]
  },
  {
   "cell_type": "code",
   "execution_count": 10,
   "id": "124eef6c-33d2-4ff5-b88c-d92ca97df956",
   "metadata": {},
   "outputs": [
    {
     "data": {
      "text/plain": [
       "140150797274832"
      ]
     },
     "execution_count": 10,
     "metadata": {},
     "output_type": "execute_result"
    }
   ],
   "source": [
    "id(df_with_only_concatenated)"
   ]
  },
  {
   "cell_type": "markdown",
   "id": "41cd6d88-67e5-46cd-afd8-75a1e147c64c",
   "metadata": {},
   "source": [
    "If \"df\" was assigned to \"df_with_only_concatenated\", the\n",
    "\n",
    "memory addresses of both DataFrames would be the same.\n",
    "\n",
    "This can be validated by running the ensuing cells."
   ]
  },
  {
   "cell_type": "code",
   "execution_count": 11,
   "id": "f6e9760e-c78b-4396-a645-c5580c0f43a0",
   "metadata": {},
   "outputs": [],
   "source": [
    "df_with_only_concatenated = df"
   ]
  },
  {
   "cell_type": "code",
   "execution_count": 12,
   "id": "2a97bd79-4c46-4dba-b287-5f1bc30ebf05",
   "metadata": {},
   "outputs": [
    {
     "data": {
      "text/plain": [
       "140150797155472"
      ]
     },
     "execution_count": 12,
     "metadata": {},
     "output_type": "execute_result"
    }
   ],
   "source": [
    "id(df_with_only_concatenated)"
   ]
  },
  {
   "cell_type": "code",
   "execution_count": 13,
   "id": "3cf12108-e4eb-4bed-9b0c-9146a0a84749",
   "metadata": {},
   "outputs": [
    {
     "data": {
      "text/plain": [
       "140150797155472"
      ]
     },
     "execution_count": 13,
     "metadata": {},
     "output_type": "execute_result"
    }
   ],
   "source": [
    "id(df)"
   ]
  }
 ],
 "metadata": {
  "kernelspec": {
   "display_name": "Python 3 (ipykernel)",
   "language": "python",
   "name": "python3"
  },
  "language_info": {
   "codemirror_mode": {
    "name": "ipython",
    "version": 3
   },
   "file_extension": ".py",
   "mimetype": "text/x-python",
   "name": "python",
   "nbconvert_exporter": "python",
   "pygments_lexer": "ipython3",
   "version": "3.11.5"
  }
 },
 "nbformat": 4,
 "nbformat_minor": 5
}
