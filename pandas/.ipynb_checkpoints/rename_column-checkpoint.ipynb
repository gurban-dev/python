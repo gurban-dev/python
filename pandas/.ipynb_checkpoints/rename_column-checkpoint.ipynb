{
 "cells": [
  {
   "cell_type": "code",
   "execution_count": 1,
   "id": "89cabbf7-13a1-431c-91cb-90c5c4d6b8e1",
   "metadata": {},
   "outputs": [],
   "source": [
    "import pandas as pd"
   ]
  },
  {
   "cell_type": "code",
   "execution_count": 2,
   "id": "885557c1-9578-4750-bcb5-cbf3f44f4b60",
   "metadata": {},
   "outputs": [],
   "source": [
    "AOMTwithMarketDataSummaryFinal = pd.DataFrame(\n",
    "  # {'column_name': ['column_value']}\n",
    "  {'trade_date': ['dwh_business_date_short']}\n",
    ")"
   ]
  },
  {
   "cell_type": "markdown",
   "id": "804615c9-c646-450e-999e-bdbb9fe05e92",
   "metadata": {},
   "source": [
    "Output the original DataFrame."
   ]
  },
  {
   "cell_type": "code",
   "execution_count": 10,
   "id": "fe7f9d67-561e-43ba-a390-e3f332505b2a",
   "metadata": {},
   "outputs": [
    {
     "data": {
      "text/html": [
       "<div>\n",
       "<style scoped>\n",
       "    .dataframe tbody tr th:only-of-type {\n",
       "        vertical-align: middle;\n",
       "    }\n",
       "\n",
       "    .dataframe tbody tr th {\n",
       "        vertical-align: top;\n",
       "    }\n",
       "\n",
       "    .dataframe thead th {\n",
       "        text-align: right;\n",
       "    }\n",
       "</style>\n",
       "<table border=\"1\" class=\"dataframe\">\n",
       "  <thead>\n",
       "    <tr style=\"text-align: right;\">\n",
       "      <th></th>\n",
       "      <th>dwh business date</th>\n",
       "    </tr>\n",
       "  </thead>\n",
       "  <tbody>\n",
       "    <tr>\n",
       "      <th>0</th>\n",
       "      <td>dwh_business_date_short</td>\n",
       "    </tr>\n",
       "  </tbody>\n",
       "</table>\n",
       "</div>"
      ],
      "text/plain": [
       "         dwh business date\n",
       "0  dwh_business_date_short"
      ]
     },
     "execution_count": 10,
     "metadata": {},
     "output_type": "execute_result"
    }
   ],
   "source": [
    "AOMTwithMarketDataSummaryFinal"
   ]
  },
  {
   "cell_type": "markdown",
   "id": "a7d9d2e3-dbb1-4a45-9263-1c7408bd0868",
   "metadata": {},
   "source": [
    "Renaming the column from \"trade_date\" to \"dwh business date\"\n",
    "\n",
    "without assigning the return value won't change anything."
   ]
  },
  {
   "cell_type": "code",
   "execution_count": 4,
   "id": "1e4d5864-3af8-44bb-be59-727f63d33941",
   "metadata": {},
   "outputs": [
    {
     "data": {
      "text/html": [
       "<div>\n",
       "<style scoped>\n",
       "    .dataframe tbody tr th:only-of-type {\n",
       "        vertical-align: middle;\n",
       "    }\n",
       "\n",
       "    .dataframe tbody tr th {\n",
       "        vertical-align: top;\n",
       "    }\n",
       "\n",
       "    .dataframe thead th {\n",
       "        text-align: right;\n",
       "    }\n",
       "</style>\n",
       "<table border=\"1\" class=\"dataframe\">\n",
       "  <thead>\n",
       "    <tr style=\"text-align: right;\">\n",
       "      <th></th>\n",
       "      <th>dwh business date</th>\n",
       "    </tr>\n",
       "  </thead>\n",
       "  <tbody>\n",
       "    <tr>\n",
       "      <th>0</th>\n",
       "      <td>dwh_business_date_short</td>\n",
       "    </tr>\n",
       "  </tbody>\n",
       "</table>\n",
       "</div>"
      ],
      "text/plain": [
       "         dwh business date\n",
       "0  dwh_business_date_short"
      ]
     },
     "execution_count": 4,
     "metadata": {},
     "output_type": "execute_result"
    }
   ],
   "source": [
    "AOMTwithMarketDataSummaryFinal.rename(columns={\"trade_date\": \"dwh business date\"})"
   ]
  },
  {
   "cell_type": "markdown",
   "id": "523185df-a56b-4a00-b673-66aff675e09c",
   "metadata": {},
   "source": [
    "The DataFrame can be outputted to validate\n",
    "\n",
    "that the column has not been renamed."
   ]
  },
  {
   "cell_type": "code",
   "execution_count": 6,
   "id": "bccb61ed-b002-45be-953b-6561a83ece23",
   "metadata": {},
   "outputs": [
    {
     "data": {
      "text/html": [
       "<div>\n",
       "<style scoped>\n",
       "    .dataframe tbody tr th:only-of-type {\n",
       "        vertical-align: middle;\n",
       "    }\n",
       "\n",
       "    .dataframe tbody tr th {\n",
       "        vertical-align: top;\n",
       "    }\n",
       "\n",
       "    .dataframe thead th {\n",
       "        text-align: right;\n",
       "    }\n",
       "</style>\n",
       "<table border=\"1\" class=\"dataframe\">\n",
       "  <thead>\n",
       "    <tr style=\"text-align: right;\">\n",
       "      <th></th>\n",
       "      <th>trade_date</th>\n",
       "    </tr>\n",
       "  </thead>\n",
       "  <tbody>\n",
       "    <tr>\n",
       "      <th>0</th>\n",
       "      <td>dwh_business_date_short</td>\n",
       "    </tr>\n",
       "  </tbody>\n",
       "</table>\n",
       "</div>"
      ],
      "text/plain": [
       "                trade_date\n",
       "0  dwh_business_date_short"
      ]
     },
     "execution_count": 6,
     "metadata": {},
     "output_type": "execute_result"
    }
   ],
   "source": [
    "AOMTwithMarketDataSummaryFinal"
   ]
  },
  {
   "cell_type": "markdown",
   "id": "838ff965-0846-44ca-a242-3b0d0221b35d",
   "metadata": {},
   "source": [
    "This time assign the return value to the DataFrame."
   ]
  },
  {
   "cell_type": "code",
   "execution_count": 7,
   "id": "dd491d1d-3fa8-448d-bb72-4273edd1a6f3",
   "metadata": {},
   "outputs": [],
   "source": [
    "AOMTwithMarketDataSummaryFinal = AOMTwithMarketDataSummaryFinal.rename(columns={\"trade_date\": \"dwh business date\"})"
   ]
  },
  {
   "cell_type": "markdown",
   "id": "15877e89-8d89-43d6-a139-b636c5fb438b",
   "metadata": {},
   "source": [
    "Output the DataFrame again to confirm that the column name changed."
   ]
  },
  {
   "cell_type": "code",
   "execution_count": 8,
   "id": "25ce5960-ef69-49ac-8a76-2c93c2a007dd",
   "metadata": {},
   "outputs": [
    {
     "data": {
      "text/html": [
       "<div>\n",
       "<style scoped>\n",
       "    .dataframe tbody tr th:only-of-type {\n",
       "        vertical-align: middle;\n",
       "    }\n",
       "\n",
       "    .dataframe tbody tr th {\n",
       "        vertical-align: top;\n",
       "    }\n",
       "\n",
       "    .dataframe thead th {\n",
       "        text-align: right;\n",
       "    }\n",
       "</style>\n",
       "<table border=\"1\" class=\"dataframe\">\n",
       "  <thead>\n",
       "    <tr style=\"text-align: right;\">\n",
       "      <th></th>\n",
       "      <th>dwh business date</th>\n",
       "    </tr>\n",
       "  </thead>\n",
       "  <tbody>\n",
       "    <tr>\n",
       "      <th>0</th>\n",
       "      <td>dwh_business_date_short</td>\n",
       "    </tr>\n",
       "  </tbody>\n",
       "</table>\n",
       "</div>"
      ],
      "text/plain": [
       "         dwh business date\n",
       "0  dwh_business_date_short"
      ]
     },
     "execution_count": 8,
     "metadata": {},
     "output_type": "execute_result"
    }
   ],
   "source": [
    "AOMTwithMarketDataSummaryFinal"
   ]
  }
 ],
 "metadata": {
  "kernelspec": {
   "display_name": "Python 3 (ipykernel)",
   "language": "python",
   "name": "python3"
  },
  "language_info": {
   "codemirror_mode": {
    "name": "ipython",
    "version": 3
   },
   "file_extension": ".py",
   "mimetype": "text/x-python",
   "name": "python",
   "nbconvert_exporter": "python",
   "pygments_lexer": "ipython3",
   "version": "3.11.5"
  }
 },
 "nbformat": 4,
 "nbformat_minor": 5
}
