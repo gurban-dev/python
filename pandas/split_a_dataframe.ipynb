{
 "cells": [
  {
   "cell_type": "code",
   "execution_count": 2,
   "id": "4561e656-f3df-42b3-a71c-327025840561",
   "metadata": {},
   "outputs": [],
   "source": [
    "import pandas as pd"
   ]
  },
  {
   "cell_type": "code",
   "execution_count": 3,
   "id": "808b24fc-57f1-4644-8544-8f8327d0d1cb",
   "metadata": {},
   "outputs": [
    {
     "name": "stdout",
     "output_type": "stream",
     "text": [
      "concatenated\n",
      "A    37\n",
      "B    45\n",
      "C     5\n",
      "Name: value, dtype: int64\n"
     ]
    }
   ],
   "source": [
    "# Create a sample DataFrame.\n",
    "data = {\n",
    "    \"concatenated\": [\"A\", \"B\", \"A\", \"C\", \"B\", \"A\"],\n",
    "    \"value\": [10, 20, 15, 5, 25, 12]\n",
    "}\n",
    "\n",
    "df = pd.DataFrame(data)\n",
    "\n",
    "# Group by \"concatenated\" and calculate\n",
    "# the sum of \"value\" for each group.\n",
    "grouped = df.groupby(\"concatenated\")\n",
    "\n",
    "sums = grouped[\"value\"].sum()\n",
    "\n",
    "print(sums)"
   ]
  },
  {
   "cell_type": "code",
   "execution_count": 4,
   "id": "abbb6499-5b5d-492a-a075-96bed2ebadba",
   "metadata": {},
   "outputs": [],
   "source": [
    "# Create a sample DataFrame.\n",
    "data = {\n",
    "    \"concatenated\": [\"A\", \"B\", \"A\", \"C\", \"B\", \"A\"]\n",
    "}\n",
    "\n",
    "df = pd.DataFrame(data)\n",
    "\n",
    "# Calculate the occurrences of each value.\n",
    "df[\"occurences\"] = df.groupby(\"concatenated\")[\n",
    "  \"concatenated\"\n",
    "].transform(\"count\")"
   ]
  },
  {
   "cell_type": "code",
   "execution_count": 5,
   "id": "161d3c60-abfb-42fa-a6bc-ad75842bf0cd",
   "metadata": {},
   "outputs": [
    {
     "data": {
      "text/html": [
       "<div>\n",
       "<style scoped>\n",
       "    .dataframe tbody tr th:only-of-type {\n",
       "        vertical-align: middle;\n",
       "    }\n",
       "\n",
       "    .dataframe tbody tr th {\n",
       "        vertical-align: top;\n",
       "    }\n",
       "\n",
       "    .dataframe thead th {\n",
       "        text-align: right;\n",
       "    }\n",
       "</style>\n",
       "<table border=\"1\" class=\"dataframe\">\n",
       "  <thead>\n",
       "    <tr style=\"text-align: right;\">\n",
       "      <th></th>\n",
       "      <th>concatenated</th>\n",
       "      <th>occurences</th>\n",
       "    </tr>\n",
       "  </thead>\n",
       "  <tbody>\n",
       "    <tr>\n",
       "      <th>0</th>\n",
       "      <td>A</td>\n",
       "      <td>3</td>\n",
       "    </tr>\n",
       "    <tr>\n",
       "      <th>1</th>\n",
       "      <td>B</td>\n",
       "      <td>2</td>\n",
       "    </tr>\n",
       "    <tr>\n",
       "      <th>2</th>\n",
       "      <td>A</td>\n",
       "      <td>3</td>\n",
       "    </tr>\n",
       "    <tr>\n",
       "      <th>3</th>\n",
       "      <td>C</td>\n",
       "      <td>1</td>\n",
       "    </tr>\n",
       "    <tr>\n",
       "      <th>4</th>\n",
       "      <td>B</td>\n",
       "      <td>2</td>\n",
       "    </tr>\n",
       "    <tr>\n",
       "      <th>5</th>\n",
       "      <td>A</td>\n",
       "      <td>3</td>\n",
       "    </tr>\n",
       "  </tbody>\n",
       "</table>\n",
       "</div>"
      ],
      "text/plain": [
       "  concatenated  occurences\n",
       "0            A           3\n",
       "1            B           2\n",
       "2            A           3\n",
       "3            C           1\n",
       "4            B           2\n",
       "5            A           3"
      ]
     },
     "execution_count": 5,
     "metadata": {},
     "output_type": "execute_result"
    }
   ],
   "source": [
    "df"
   ]
  }
 ],
 "metadata": {
  "kernelspec": {
   "display_name": "Python 3 (ipykernel)",
   "language": "python",
   "name": "python3"
  },
  "language_info": {
   "codemirror_mode": {
    "name": "ipython",
    "version": 3
   },
   "file_extension": ".py",
   "mimetype": "text/x-python",
   "name": "python",
   "nbconvert_exporter": "python",
   "pygments_lexer": "ipython3",
   "version": "3.11.5"
  }
 },
 "nbformat": 4,
 "nbformat_minor": 5
}
