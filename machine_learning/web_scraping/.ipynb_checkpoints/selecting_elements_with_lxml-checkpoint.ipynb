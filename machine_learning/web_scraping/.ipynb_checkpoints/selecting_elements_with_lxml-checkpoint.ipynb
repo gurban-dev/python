{
 "cells": [
  {
   "cell_type": "code",
   "execution_count": 16,
   "id": "8974b831-3592-486b-ae6c-301801bb38b3",
   "metadata": {},
   "outputs": [
    {
     "name": "stdout",
     "output_type": "stream",
     "text": [
      "Requirement already satisfied: lxml in /home/linuxbrew/.linuxbrew/opt/python@3.11/lib/python3.11/site-packages (5.3.0)\n",
      "Note: you may need to restart the kernel to use updated packages.\n"
     ]
    }
   ],
   "source": [
    "pip install lxml"
   ]
  },
  {
   "cell_type": "code",
   "execution_count": 17,
   "id": "95cd0ef5-2c7f-49e3-8250-21af3af9a7e2",
   "metadata": {},
   "outputs": [],
   "source": [
    "import requests\n",
    "from lxml import html\n",
    "\n",
    "url = 'https://oxylabs.io/blog'\n",
    "\n",
    "# Send an HTTP GET request to the above URL and\n",
    "# get back an object of the Response class.\n",
    "response = requests.get(url)\n",
    "\n",
    "tree = html.fromstring(response.text)"
   ]
  },
  {
   "cell_type": "code",
   "execution_count": 18,
   "id": "265533c9-1eb5-42ef-a1ca-04d71afa730b",
   "metadata": {},
   "outputs": [
    {
     "data": {
      "text/plain": [
       "<Element html at 0x7f55ce39f2f0>"
      ]
     },
     "execution_count": 18,
     "metadata": {},
     "output_type": "execute_result"
    }
   ],
   "source": [
    "tree"
   ]
  },
  {
   "cell_type": "code",
   "execution_count": null,
   "id": "65bb7b97-d08e-4d81-be6a-14586240ede5",
   "metadata": {},
   "outputs": [],
   "source": []
  }
 ],
 "metadata": {
  "kernelspec": {
   "display_name": "Python 3 (ipykernel)",
   "language": "python",
   "name": "python3"
  },
  "language_info": {
   "codemirror_mode": {
    "name": "ipython",
    "version": 3
   },
   "file_extension": ".py",
   "mimetype": "text/x-python",
   "name": "python",
   "nbconvert_exporter": "python",
   "pygments_lexer": "ipython3",
   "version": "3.11.5"
  }
 },
 "nbformat": 4,
 "nbformat_minor": 5
}
