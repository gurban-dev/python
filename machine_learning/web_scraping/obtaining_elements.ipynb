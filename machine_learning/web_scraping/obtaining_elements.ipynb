{
 "cells": [
  {
   "cell_type": "code",
   "execution_count": 1,
   "id": "62bede67-9090-45d9-bd3f-3024a3b4d70a",
   "metadata": {},
   "outputs": [
    {
     "name": "stdout",
     "output_type": "stream",
     "text": [
      "Requirement already satisfied: beautifulsoup4 in /home/linuxbrew/.linuxbrew/opt/python@3.11/lib/python3.11/site-packages (4.12.3)\n",
      "Requirement already satisfied: soupsieve>1.2 in /home/linuxbrew/.linuxbrew/opt/python@3.11/lib/python3.11/site-packages (from beautifulsoup4) (2.6)\n",
      "Note: you may need to restart the kernel to use updated packages.\n"
     ]
    }
   ],
   "source": [
    "pip install beautifulsoup4"
   ]
  },
  {
   "cell_type": "code",
   "execution_count": 7,
   "id": "7dd5d650-ec2a-4dca-94c0-64b6ebe9dbc8",
   "metadata": {},
   "outputs": [
    {
     "name": "stdout",
     "output_type": "stream",
     "text": [
      "soup.title: <title>Oxylabs Blog</title>\n"
     ]
    }
   ],
   "source": [
    "import requests\n",
    "from bs4 import BeautifulSoup\n",
    "\n",
    "url = 'https://oxylabs.io/blog'\n",
    "response = requests.get(url)\n",
    "soup = BeautifulSoup(response.text, 'html.parser')\n",
    "\n",
    "# Obtaining the title of the HTML page which is located\n",
    "# in the <head></head> section and not visible on the\n",
    "# actual web page.\n",
    "print(f\"soup.title: {soup.title}\")"
   ]
  },
  {
   "cell_type": "markdown",
   "id": "bd08682c-5fb8-4e91-9a64-0c601ac42db5",
   "metadata": {},
   "source": [
    "Use the value e1uzm1ya1 to select all the elements that store the blog titles."
   ]
  },
  {
   "cell_type": "code",
   "execution_count": 8,
   "id": "282f20b2-1b83-43ec-a7ff-e4abc4878bc1",
   "metadata": {},
   "outputs": [
    {
     "name": "stdout",
     "output_type": "stream",
     "text": [
      "How to Scrape Google Images With Python\n",
      "Leveraging AI for Large-Scale Scraping and Parsing\n",
      "Web Scraping With cURL Tutorial 2025\n",
      "ISP Proxies vs. Residential Proxies – Ultimate Guide\n",
      "How to Track an IP Address: Find Out Here\n",
      "How to Make a Web Crawler With Python\n",
      "What Is Rate Limiting & How to Avoid It\n",
      "Best Web Scraping Companies in 2025\n",
      "How to Scrape Google News: Step-by-Step Guide\n",
      "Scraping Data from Etsy: A Comprehensive Guide for Data Extraction\n",
      "How to Scrape Walmart in 2025: A Step-by-Step Tutorial\n",
      "10 Best Proxy Providers in 2025\n",
      "How to Scrape Google Maps Using Python\n",
      "9 Playwright Best Practices: Reliable and Easy Tests\n",
      "How to Show HTTP Response Headers in cURL?\n",
      "Running Python on Windows: A Beginner's Guide\n",
      "How to Use cURL in PHP With Examples\n",
      "What is Data Scraping? Complete Guide\n",
      "How to Scrape Indeed Jobs Data in 2025\n"
     ]
    }
   ],
   "source": [
    "# The value assigned to \"class_\" may be different for you.\n",
    "# To determine what that value should be, see what the second\n",
    "# value is for the second class assigned to the \"class\" attribute\n",
    "# for the <a></a> element.\n",
    "blog_titles = soup.find_all('a', class_='e1uzm1ya1')\n",
    "\n",
    "for title in blog_titles:\n",
    "    print(title.text)"
   ]
  },
  {
   "cell_type": "code",
   "execution_count": 9,
   "id": "88b888ed-f588-490a-9f87-cba7b94e9593",
   "metadata": {},
   "outputs": [
    {
     "name": "stdout",
     "output_type": "stream",
     "text": [
      "How to Scrape Google Images With Python\n",
      "Leveraging AI for Large-Scale Scraping and Parsing\n",
      "Web Scraping With cURL Tutorial 2025\n",
      "ISP Proxies vs. Residential Proxies – Ultimate Guide\n",
      "How to Track an IP Address: Find Out Here\n",
      "How to Make a Web Crawler With Python\n",
      "What Is Rate Limiting & How to Avoid It\n",
      "Best Web Scraping Companies in 2025\n",
      "How to Scrape Google News: Step-by-Step Guide\n",
      "Scraping Data from Etsy: A Comprehensive Guide for Data Extraction\n",
      "How to Scrape Walmart in 2025: A Step-by-Step Tutorial\n",
      "10 Best Proxy Providers in 2025\n",
      "How to Scrape Google Maps Using Python\n",
      "9 Playwright Best Practices: Reliable and Easy Tests\n",
      "How to Show HTTP Response Headers in cURL?\n",
      "Running Python on Windows: A Beginner's Guide\n",
      "How to Use cURL in PHP With Examples\n",
      "What is Data Scraping? Complete Guide\n",
      "How to Scrape Indeed Jobs Data in 2025\n"
     ]
    }
   ],
   "source": [
    "import re\n",
    "\n",
    "# Send a request and pass the response to Beautiful Soup just like before\n",
    "\n",
    "# re.compile() compiles a regular expression pattern into a regular\n",
    "# expression object.\n",
    "blog_titles = soup.find_all('a', class_=re.compile('oxy-1lpa5pr'))\n",
    "for title in blog_titles:\n",
    "    print(title.text)"
   ]
  },
  {
   "cell_type": "code",
   "execution_count": 12,
   "id": "1e8138df-2677-4e97-9f0f-477003025b6a",
   "metadata": {},
   "outputs": [
    {
     "name": "stdout",
     "output_type": "stream",
     "text": [
      "How to Scrape Google Images With Python\n",
      "Leveraging AI for Large-Scale Scraping and Parsing\n",
      "Web Scraping With cURL Tutorial 2025\n",
      "ISP Proxies vs. Residential Proxies – Ultimate Guide\n",
      "How to Track an IP Address: Find Out Here\n",
      "How to Make a Web Crawler With Python\n",
      "What Is Rate Limiting & How to Avoid It\n",
      "Best Web Scraping Companies in 2025\n",
      "How to Scrape Google News: Step-by-Step Guide\n",
      "Scraping Data from Etsy: A Comprehensive Guide for Data Extraction\n",
      "How to Scrape Walmart in 2025: A Step-by-Step Tutorial\n",
      "10 Best Proxy Providers in 2025\n",
      "How to Scrape Google Maps Using Python\n",
      "9 Playwright Best Practices: Reliable and Easy Tests\n",
      "How to Show HTTP Response Headers in cURL?\n",
      "Running Python on Windows: A Beginner's Guide\n",
      "How to Use cURL in PHP With Examples\n",
      "What is Data Scraping? Complete Guide\n",
      "How to Scrape Indeed Jobs Data in 2025\n"
     ]
    }
   ],
   "source": [
    "# Select all of the <a> elements that have the \"e1uzm1ya1\"\n",
    "# class assigned to their class attribute.\n",
    "blog_titles = soup.select('a.e1uzm1ya1')\n",
    "\n",
    "for title in blog_titles:\n",
    "    print(title.text)"
   ]
  },
  {
   "cell_type": "code",
   "execution_count": null,
   "id": "ad6cb8aa-da2f-4ef8-a58c-7f89666706eb",
   "metadata": {},
   "outputs": [],
   "source": []
  }
 ],
 "metadata": {
  "kernelspec": {
   "display_name": "Python 3 (ipykernel)",
   "language": "python",
   "name": "python3"
  },
  "language_info": {
   "codemirror_mode": {
    "name": "ipython",
    "version": 3
   },
   "file_extension": ".py",
   "mimetype": "text/x-python",
   "name": "python",
   "nbconvert_exporter": "python",
   "pygments_lexer": "ipython3",
   "version": "3.11.5"
  }
 },
 "nbformat": 4,
 "nbformat_minor": 5
}
